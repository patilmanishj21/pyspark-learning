{
  "nbformat": 4,
  "nbformat_minor": 0,
  "metadata": {
    "colab": {
      "provenance": [],
      "collapsed_sections": [
        "qJoeN3e8_Gzk",
        "Dd6t0uFzuR4X",
        "8qf-TmnsBgXd",
        "3UJoYm5zwOWp",
        "mI_zYOVpf2yK",
        "NiU1nhA3y0j4",
        "9sDnyyzozVxA",
        "D7Dw2UpQ08-9",
        "hiKFyArf14B0",
        "9lAyzg282V_4",
        "-aQQ2gBF3Azz",
        "oSOpIOhJ4etN"
      ],
      "include_colab_link": true
    },
    "kernelspec": {
      "name": "python3",
      "display_name": "Python 3"
    },
    "language_info": {
      "name": "python"
    }
  },
  "cells": [
    {
      "cell_type": "markdown",
      "metadata": {
        "id": "view-in-github",
        "colab_type": "text"
      },
      "source": [
        "<a href=\"https://colab.research.google.com/github/patilmanishj21/pyspark-learning/blob/main/Apache_PySpark_by_Example.ipynb\" target=\"_parent\"><img src=\"https://colab.research.google.com/assets/colab-badge.svg\" alt=\"Open In Colab\"/></a>"
      ]
    },
    {
      "cell_type": "markdown",
      "source": [
        "# Apache PySpark by Example"
      ],
      "metadata": {
        "id": "ZZPtipYTrbgk"
      }
    },
    {
      "cell_type": "markdown",
      "source": [
        "**[June 2023 update]**\n",
        "\n",
        "I've consolidated all the notebooks for this course into a single notebook. (The course videos will still show individual notebooks)\n"
      ],
      "metadata": {
        "id": "dTZDpUrdtXZf"
      }
    },
    {
      "cell_type": "markdown",
      "metadata": {
        "id": "qJoeN3e8_Gzk"
      },
      "source": [
        "## Introduction to Google Colab"
      ]
    },
    {
      "cell_type": "markdown",
      "metadata": {
        "id": "_N5-lspH_N8B"
      },
      "source": [
        "### Jupyter notebook basics"
      ]
    },
    {
      "cell_type": "markdown",
      "metadata": {
        "id": "6Ul54hAYyHyd"
      },
      "source": [
        "#### Code cells"
      ]
    },
    {
      "cell_type": "code",
      "execution_count": null,
      "metadata": {
        "id": "j38beRUTCI5c"
      },
      "outputs": [],
      "source": []
    },
    {
      "cell_type": "code",
      "source": [],
      "metadata": {
        "id": "7MyCqNQDXJid"
      },
      "execution_count": null,
      "outputs": []
    },
    {
      "cell_type": "code",
      "execution_count": null,
      "metadata": {
        "id": "_Jewe_e9CIYa"
      },
      "outputs": [],
      "source": []
    },
    {
      "cell_type": "code",
      "execution_count": null,
      "metadata": {
        "id": "g8Y7w6_CCIIT"
      },
      "outputs": [],
      "source": []
    },
    {
      "cell_type": "markdown",
      "metadata": {
        "id": "VOqLNkRKyUIS"
      },
      "source": [
        "#### Text cells"
      ]
    },
    {
      "cell_type": "code",
      "execution_count": null,
      "metadata": {
        "id": "neY8vxXzyXDq"
      },
      "outputs": [],
      "source": []
    },
    {
      "cell_type": "markdown",
      "metadata": {
        "id": "X6zdrH15_CCW"
      },
      "source": [
        "### Access to the shell"
      ]
    },
    {
      "cell_type": "code",
      "execution_count": null,
      "metadata": {
        "id": "zdO9sjSdEVnr"
      },
      "outputs": [],
      "source": []
    },
    {
      "cell_type": "code",
      "execution_count": null,
      "metadata": {
        "id": "0785Cp2qD0VX"
      },
      "outputs": [],
      "source": []
    },
    {
      "cell_type": "code",
      "execution_count": null,
      "metadata": {
        "id": "QF9e3lDDEX3I"
      },
      "outputs": [],
      "source": []
    },
    {
      "cell_type": "code",
      "execution_count": null,
      "metadata": {
        "id": "sfzbZVIwEeaF"
      },
      "outputs": [],
      "source": []
    },
    {
      "cell_type": "code",
      "execution_count": null,
      "metadata": {
        "id": "Ip_onRMlEi_p"
      },
      "outputs": [],
      "source": []
    },
    {
      "cell_type": "code",
      "execution_count": null,
      "metadata": {
        "id": "DN5HQbosEm1k"
      },
      "outputs": [],
      "source": []
    },
    {
      "cell_type": "code",
      "execution_count": null,
      "metadata": {
        "id": "IX947X96Gdpj"
      },
      "outputs": [],
      "source": []
    },
    {
      "cell_type": "markdown",
      "metadata": {
        "id": "Dd6t0uFzuR4X"
      },
      "source": [
        "## Install Spark"
      ]
    },
    {
      "cell_type": "markdown",
      "source": [
        "- Google colab recently made some changes which breaks the Spark installation.\n",
        "- Please use the code below where we install from the pyspark package instead"
      ],
      "metadata": {
        "id": "qu34sKRJvhq_"
      }
    },
    {
      "cell_type": "code",
      "execution_count": 1,
      "metadata": {
        "id": "We2yp-o7Hgu9",
        "colab": {
          "base_uri": "https://localhost:8080/"
        },
        "outputId": "085e03ae-12b0-40d8-f8ed-9509aac5a05b"
      },
      "outputs": [
        {
          "output_type": "stream",
          "name": "stdout",
          "text": [
            "Requirement already satisfied: pyspark==3.4.0 in /usr/local/lib/python3.12/dist-packages (3.4.0)\n",
            "Requirement already satisfied: py4j==0.10.9.7 in /usr/local/lib/python3.12/dist-packages (from pyspark==3.4.0) (0.10.9.7)\n"
          ]
        }
      ],
      "source": [
        "!pip install pyspark==3.4.0"
      ]
    },
    {
      "cell_type": "code",
      "execution_count": 2,
      "metadata": {
        "id": "QdrFO3yrwptm",
        "colab": {
          "base_uri": "https://localhost:8080/",
          "height": 221
        },
        "outputId": "6dffaa57-130d-479e-b136-30f1ec64b245"
      },
      "outputs": [
        {
          "output_type": "execute_result",
          "data": {
            "text/plain": [
              "<pyspark.sql.session.SparkSession at 0x793582db2ff0>"
            ],
            "text/html": [
              "\n",
              "            <div>\n",
              "                <p><b>SparkSession - in-memory</b></p>\n",
              "                \n",
              "        <div>\n",
              "            <p><b>SparkContext</b></p>\n",
              "\n",
              "            <p><a href=\"http://20f842b5fda2:4040\">Spark UI</a></p>\n",
              "\n",
              "            <dl>\n",
              "              <dt>Version</dt>\n",
              "                <dd><code>v3.4.0</code></dd>\n",
              "              <dt>Master</dt>\n",
              "                <dd><code>local[*]</code></dd>\n",
              "              <dt>AppName</dt>\n",
              "                <dd><code>pyspark-shell</code></dd>\n",
              "            </dl>\n",
              "        </div>\n",
              "        \n",
              "            </div>\n",
              "        "
            ]
          },
          "metadata": {},
          "execution_count": 2
        }
      ],
      "source": [
        "from pyspark.sql import SparkSession\n",
        "spark = SparkSession.builder.master(\"local[*]\").getOrCreate()\n",
        "spark"
      ]
    },
    {
      "cell_type": "markdown",
      "source": [],
      "metadata": {
        "id": "XO081lQtutJ-"
      }
    },
    {
      "cell_type": "markdown",
      "metadata": {
        "id": "8qf-TmnsBgXd"
      },
      "source": [
        "## (02-02) Download Chicago's Reported Crime Data"
      ]
    },
    {
      "cell_type": "markdown",
      "metadata": {
        "id": "0ysUlfFrN5OD"
      },
      "source": [
        "### Downloading and preprocessing Chicago's Reported Crime Data"
      ]
    },
    {
      "cell_type": "code",
      "execution_count": 3,
      "metadata": {
        "id": "FDtw5Hy3N-pV",
        "colab": {
          "base_uri": "https://localhost:8080/"
        },
        "outputId": "df2a5bb0-f41e-460a-91e6-6fc77a81bb8e"
      },
      "outputs": [
        {
          "output_type": "stream",
          "name": "stdout",
          "text": [
            "--2025-08-30 08:33:25--  https://data.cityofchicago.org/api/views/ijzp-q8t2/rows.csv?accessType=DOWNLOAD\n",
            "Resolving data.cityofchicago.org (data.cityofchicago.org)... 52.206.68.26, 52.206.140.205, 52.206.140.199\n",
            "Connecting to data.cityofchicago.org (data.cityofchicago.org)|52.206.68.26|:443... connected.\n",
            "HTTP request sent, awaiting response... 200 OK\n",
            "Length: unspecified [text/csv]\n",
            "Saving to: ‘rows.csv?accessType=DOWNLOAD’\n",
            "\n",
            "essType=DOWNLOAD        [            <=>     ]  13.40M  2.72MB/s               ^C\n",
            "total 13812\n",
            "-rw-r--r-- 1 root root 14136459 Aug 30 08:33 'rows.csv?accessType=DOWNLOAD'\n",
            "drwxr-xr-x 1 root root     4096 Aug 28 13:43  sample_data\n"
          ]
        }
      ],
      "source": [
        "!wget https://data.cityofchicago.org/api/views/ijzp-q8t2/rows.csv?accessType=DOWNLOAD\n",
        "!ls -l"
      ]
    },
    {
      "cell_type": "code",
      "execution_count": 4,
      "metadata": {
        "id": "v4P5mMONYyVd",
        "colab": {
          "base_uri": "https://localhost:8080/"
        },
        "outputId": "0df4cfa3-20c1-47c7-c7a1-bd8a46107aba"
      },
      "outputs": [
        {
          "output_type": "stream",
          "name": "stdout",
          "text": [
            "total 13812\n",
            "-rw-r--r-- 1 root root 14136459 Aug 30 08:33 reported-crimes.csv\n",
            "drwxr-xr-x 1 root root     4096 Aug 28 13:43 sample_data\n"
          ]
        }
      ],
      "source": [
        "!mv rows.csv\\?accessType\\=DOWNLOAD reported-crimes.csv\n",
        "!ls -l"
      ]
    },
    {
      "cell_type": "code",
      "execution_count": 5,
      "metadata": {
        "id": "9-1cK0nPNS95",
        "colab": {
          "base_uri": "https://localhost:8080/"
        },
        "outputId": "46e01ba0-a6bd-4691-fac3-b9f210bc7888"
      },
      "outputs": [
        {
          "output_type": "stream",
          "name": "stdout",
          "text": [
            "+--------+-----------+-------------------+--------------------+----+-------------------+--------------------+--------------------+------+--------+----+--------+----+--------------+--------+------------+------------+----+--------------------+------------+-------------+--------------------+\n",
            "|      ID|Case Number|               Date|               Block|IUCR|       Primary Type|         Description|Location Description|Arrest|Domestic|Beat|District|Ward|Community Area|FBI Code|X Coordinate|Y Coordinate|Year|          Updated On|    Latitude|    Longitude|            Location|\n",
            "+--------+-----------+-------------------+--------------------+----+-------------------+--------------------+--------------------+------+--------+----+--------+----+--------------+--------+------------+------------+----+--------------------+------------+-------------+--------------------+\n",
            "|11227634|   JB147599|2017-08-26 10:00:00| 001XX W RANDOLPH ST|0281|CRIM SEXUAL ASSAULT|      NON-AGGRAVATED|         HOTEL/MOTEL| false|   false|0122|     001|  42|            32|      02|        null|        null|2017|02/11/2018 03:57:...|        null|         null|                null|\n",
            "| 6255892|   HP342049|2008-05-17 18:00:00|101XX S LAFAYETTE...|031A|            ROBBERY|     ARMED - HANDGUN|           RESIDENCE| false|   false|0511|     005|   9|            49|      03|     1177712|     1837726|2008|01/19/2024 03:40:...|41.710039855| -87.62479561|(41.710039855, -8...|\n",
            "| 6272641|   HP358387|2008-05-27 01:00:00|   105XX S PERRY AVE|0320|            ROBBERY|STRONG ARM - NO W...|              STREET| false|    true|0512|     005|   9|            49|      03|     1177463|     1835161|2008|01/19/2024 03:40:...|41.703006756|-87.625784664|(41.703006756, -8...|\n",
            "| 6438609|   HP496499|2008-08-05 22:37:00|   126XX S UNION AVE|031A|            ROBBERY|     ARMED - HANDGUN|SCHOOL - PUBLIC G...| false|   false|0523|     005|   9|            53|      03|     1173953|     1821073|2008|01/19/2024 03:40:...|41.664425476|-87.639053139|(41.664425476, -8...|\n",
            "| 6680276|   HP754070|2008-12-27 20:00:00|  058XX N MANTON AVE|0610|           BURGLARY|      FORCIBLE ENTRY|  RESIDENCE - GARAGE| false|   false|1622|     016|  39|            11|      05|     1137225|     1938474|2008|01/19/2024 03:40:...|  41.9873259|-87.770650405|(41.9873259, -87....|\n",
            "+--------+-----------+-------------------+--------------------+----+-------------------+--------------------+--------------------+------+--------+----+--------+----+--------------+--------+------------+------------+----+--------------------+------------+-------------+--------------------+\n",
            "only showing top 5 rows\n",
            "\n"
          ]
        }
      ],
      "source": [
        "from pyspark.sql.functions import to_timestamp,col,lit\n",
        "rc = spark.read.csv('reported-crimes.csv',header=True).withColumn('Date',to_timestamp(col('Date'),'MM/dd/yyyy hh:mm:ss a')).filter(col('Date') <= lit('2018-11-11'))\n",
        "rc.show(5)"
      ]
    },
    {
      "cell_type": "code",
      "source": [],
      "metadata": {
        "id": "YDoMDzk0kWLF"
      },
      "execution_count": null,
      "outputs": []
    },
    {
      "cell_type": "code",
      "source": [],
      "metadata": {
        "id": "6jBgmCFKkWCw"
      },
      "execution_count": null,
      "outputs": []
    },
    {
      "cell_type": "markdown",
      "metadata": {
        "id": "3UJoYm5zwOWp"
      },
      "source": [
        "## (03-03) Schemas"
      ]
    },
    {
      "cell_type": "code",
      "execution_count": 9,
      "metadata": {
        "id": "PeeOFy5cgDRq",
        "colab": {
          "base_uri": "https://localhost:8080/"
        },
        "outputId": "727d46e6-3a61-4c1e-e673-c836f041baa8"
      },
      "outputs": [
        {
          "output_type": "stream",
          "name": "stdout",
          "text": [
            "root\n",
            " |-- ID: string (nullable = true)\n",
            " |-- Case Number: string (nullable = true)\n",
            " |-- Date: timestamp (nullable = true)\n",
            " |-- Block: string (nullable = true)\n",
            " |-- IUCR: string (nullable = true)\n",
            " |-- Primary Type: string (nullable = true)\n",
            " |-- Description: string (nullable = true)\n",
            " |-- Location Description: string (nullable = true)\n",
            " |-- Arrest: string (nullable = true)\n",
            " |-- Domestic: string (nullable = true)\n",
            " |-- Beat: string (nullable = true)\n",
            " |-- District: string (nullable = true)\n",
            " |-- Ward: string (nullable = true)\n",
            " |-- Community Area: string (nullable = true)\n",
            " |-- FBI Code: string (nullable = true)\n",
            " |-- X Coordinate: string (nullable = true)\n",
            " |-- Y Coordinate: string (nullable = true)\n",
            " |-- Year: string (nullable = true)\n",
            " |-- Updated On: string (nullable = true)\n",
            " |-- Latitude: string (nullable = true)\n",
            " |-- Longitude: string (nullable = true)\n",
            " |-- Location: string (nullable = true)\n",
            "\n"
          ]
        }
      ],
      "source": [
        "rc.printSchema()"
      ]
    },
    {
      "cell_type": "code",
      "execution_count": 91,
      "metadata": {
        "id": "qLS_NEpEgDBJ"
      },
      "outputs": [],
      "source": [
        "from pyspark.sql.types import StringType,StructField,TimestampType,BooleanType,DoubleType,IntegerType, StructType,TimestampType,DateType"
      ]
    },
    {
      "cell_type": "code",
      "source": [
        "rc.columns"
      ],
      "metadata": {
        "colab": {
          "base_uri": "https://localhost:8080/"
        },
        "collapsed": true,
        "id": "uGk8kFBhIkMd",
        "outputId": "a4942fc4-21ad-40f5-f323-8f1a4252b68f"
      },
      "execution_count": 10,
      "outputs": [
        {
          "output_type": "execute_result",
          "data": {
            "text/plain": [
              "['ID',\n",
              " 'Case Number',\n",
              " 'Date',\n",
              " 'Block',\n",
              " 'IUCR',\n",
              " 'Primary Type',\n",
              " 'Description',\n",
              " 'Location Description',\n",
              " 'Arrest',\n",
              " 'Domestic',\n",
              " 'Beat',\n",
              " 'District',\n",
              " 'Ward',\n",
              " 'Community Area',\n",
              " 'FBI Code',\n",
              " 'X Coordinate',\n",
              " 'Y Coordinate',\n",
              " 'Year',\n",
              " 'Updated On',\n",
              " 'Latitude',\n",
              " 'Longitude',\n",
              " 'Location']"
            ]
          },
          "metadata": {},
          "execution_count": 10
        }
      ]
    },
    {
      "cell_type": "code",
      "execution_count": 100,
      "metadata": {
        "id": "ugRDxNwNgHNa"
      },
      "outputs": [],
      "source": [
        "labels = [\n",
        "    ('ID', StringType()),\n",
        "    ('Case Number', StringType()),\n",
        "    ('Date', StringType()),\n",
        "    ('Block', StringType()),\n",
        "    ('IUCR', StringType()),\n",
        "    ('Primary Type', StringType()),\n",
        "    ('Description', StringType()),\n",
        "    ('Location Description', StringType()),\n",
        "    ('Arrest', StringType()),\n",
        "    ('Domestic', StringType()),\n",
        "    ('Beat', StringType()),\n",
        "    ('District', StringType()),\n",
        "    ('Ward', StringType()),\n",
        "    ('Community Area', StringType()),\n",
        "    ('FBI Code', StringType()),\n",
        "    ('X Coordinate', StringType()),\n",
        "    ('Y Coordinate', StringType()),\n",
        "    ('Year', StringType()),\n",
        "    ('Updated On', StringType()),\n",
        "    ('Latitude', StringType()),\n",
        "    ('Longitude', StringType()),\n",
        "    ('Location', StringType())\n",
        "]"
      ]
    },
    {
      "cell_type": "code",
      "execution_count": 101,
      "metadata": {
        "id": "T6w6-fN9gG_7",
        "colab": {
          "base_uri": "https://localhost:8080/"
        },
        "outputId": "0e37f6f6-fefb-4b42-b3bc-1a1368fb3411"
      },
      "outputs": [
        {
          "output_type": "execute_result",
          "data": {
            "text/plain": [
              "StructType([StructField('ID', StringType(), True), StructField('Case Number', StringType(), True), StructField('Date', StringType(), True), StructField('Block', StringType(), True), StructField('IUCR', StringType(), True), StructField('Primary Type', StringType(), True), StructField('Description', StringType(), True), StructField('Location Description', StringType(), True), StructField('Arrest', StringType(), True), StructField('Domestic', StringType(), True), StructField('Beat', StringType(), True), StructField('District', StringType(), True), StructField('Ward', StringType(), True), StructField('Community Area', StringType(), True), StructField('FBI Code', StringType(), True), StructField('X Coordinate', StringType(), True), StructField('Y Coordinate', StringType(), True), StructField('Year', StringType(), True), StructField('Updated On', StringType(), True), StructField('Latitude', StringType(), True), StructField('Longitude', StringType(), True), StructField('Location', StringType(), True)])"
            ]
          },
          "metadata": {},
          "execution_count": 101
        }
      ],
      "source": [
        "schema=StructType([StructField(x[0],x[1],True) for x in labels])\n",
        "schema"
      ]
    },
    {
      "cell_type": "code",
      "execution_count": 102,
      "metadata": {
        "id": "JkUF4yJFgG25",
        "colab": {
          "base_uri": "https://localhost:8080/"
        },
        "outputId": "581c239f-230a-46d1-dd99-01696b861b7a"
      },
      "outputs": [
        {
          "output_type": "stream",
          "name": "stdout",
          "text": [
            "root\n",
            " |-- ID: string (nullable = true)\n",
            " |-- Case Number: string (nullable = true)\n",
            " |-- Date: string (nullable = true)\n",
            " |-- Block: string (nullable = true)\n",
            " |-- IUCR: string (nullable = true)\n",
            " |-- Primary Type: string (nullable = true)\n",
            " |-- Description: string (nullable = true)\n",
            " |-- Location Description: string (nullable = true)\n",
            " |-- Arrest: string (nullable = true)\n",
            " |-- Domestic: string (nullable = true)\n",
            " |-- Beat: string (nullable = true)\n",
            " |-- District: string (nullable = true)\n",
            " |-- Ward: string (nullable = true)\n",
            " |-- Community Area: string (nullable = true)\n",
            " |-- FBI Code: string (nullable = true)\n",
            " |-- X Coordinate: string (nullable = true)\n",
            " |-- Y Coordinate: string (nullable = true)\n",
            " |-- Year: string (nullable = true)\n",
            " |-- Updated On: string (nullable = true)\n",
            " |-- Latitude: string (nullable = true)\n",
            " |-- Longitude: string (nullable = true)\n",
            " |-- Location: string (nullable = true)\n",
            "\n"
          ]
        }
      ],
      "source": [
        "rc=spark.read.csv('reported-crimes.csv',schema=schema,header=True)\n",
        "rc.printSchema()"
      ]
    },
    {
      "cell_type": "code",
      "source": [
        "from pyspark.sql.functions import to_timestamp\n",
        "\n",
        "rc = rc.withColumn(\"Date\", to_timestamp(\"Date\", \"MM/dd/yyyy hh:mm:ss a\"))\n"
      ],
      "metadata": {
        "id": "cM62sUkCTR3v"
      },
      "execution_count": 104,
      "outputs": []
    },
    {
      "cell_type": "code",
      "execution_count": 105,
      "metadata": {
        "id": "o3IB6VxLgGYi",
        "colab": {
          "base_uri": "https://localhost:8080/"
        },
        "outputId": "a4169e83-08b4-4d10-c488-490e2b9f89e1"
      },
      "outputs": [
        {
          "output_type": "stream",
          "name": "stdout",
          "text": [
            "+--------+-----------+-------------------+--------------------+----+--------------------+--------------------+--------------------+------+--------+----+--------+----+--------------+--------+------------+------------+----+--------------------+------------+-------------+--------------------+\n",
            "|      ID|Case Number|               Date|               Block|IUCR|        Primary Type|         Description|Location Description|Arrest|Domestic|Beat|District|Ward|Community Area|FBI Code|X Coordinate|Y Coordinate|Year|          Updated On|    Latitude|    Longitude|            Location|\n",
            "+--------+-----------+-------------------+--------------------+----+--------------------+--------------------+--------------------+------+--------+----+--------+----+--------------+--------+------------+------------+----+--------------------+------------+-------------+--------------------+\n",
            "|13311263|   JG503434|2022-07-29 03:39:00|     023XX S TROY ST|1582|OFFENSE INVOLVING...|   CHILD PORNOGRAPHY|           RESIDENCE|  true|   false|1033|     010|  25|            30|      17|        null|        null|2022|04/18/2024 03:40:...|        null|         null|                null|\n",
            "|13053066|   JG103252|2023-01-03 16:44:00|039XX W WASHINGTO...|2017|           NARCOTICS|MANUFACTURE / DEL...|            SIDEWALK|  true|   false|1122|     011|  28|            26|      18|        null|        null|2023|01/20/2024 03:41:...|        null|         null|                null|\n",
            "|12131221|   JD327000|2020-08-10 09:45:00|   015XX N DAMEN AVE|0326|             ROBBERY|AGGRAVATED VEHICU...|              STREET|  true|   false|1424|     014|   1|            24|      03|     1162795|     1909900|2020|05/17/2025 03:40:...|41.908417822| -87.67740693|(41.908417822, -8...|\n",
            "|11227634|   JB147599|2017-08-26 10:00:00| 001XX W RANDOLPH ST|0281| CRIM SEXUAL ASSAULT|      NON-AGGRAVATED|         HOTEL/MOTEL| false|   false|0122|     001|  42|            32|      02|        null|        null|2017|02/11/2018 03:57:...|        null|         null|                null|\n",
            "|13203321|   JG415333|2023-09-06 17:00:00|    002XX N Wells st|1320|     CRIMINAL DAMAGE|          TO VEHICLE|PARKING LOT / GAR...| false|   false|0122|     001|  42|            32|      14|     1174694|     1901831|2023|11/04/2023 03:40:...|41.886018055|-87.633937881|(41.886018055, -8...|\n",
            "+--------+-----------+-------------------+--------------------+----+--------------------+--------------------+--------------------+------+--------+----+--------+----+--------------+--------+------------+------------+----+--------------------+------------+-------------+--------------------+\n",
            "only showing top 5 rows\n",
            "\n"
          ]
        }
      ],
      "source": [
        "rc.show(5)"
      ]
    },
    {
      "cell_type": "markdown",
      "metadata": {
        "id": "mI_zYOVpf2yK"
      },
      "source": [
        "## (03-04) Working with columns"
      ]
    },
    {
      "cell_type": "markdown",
      "metadata": {
        "id": "WvOfJmzhf0kG"
      },
      "source": [
        "**Display only the first 5 rows of the column name IUCR**"
      ]
    },
    {
      "cell_type": "code",
      "execution_count": 49,
      "metadata": {
        "id": "808f1HzwgDyh",
        "colab": {
          "base_uri": "https://localhost:8080/"
        },
        "outputId": "8a70119f-3137-485c-f58c-828bd0dbea9f"
      },
      "outputs": [
        {
          "output_type": "stream",
          "name": "stdout",
          "text": [
            "+----+\n",
            "|IUCR|\n",
            "+----+\n",
            "|1582|\n",
            "|2017|\n",
            "|0326|\n",
            "|0281|\n",
            "|1320|\n",
            "+----+\n",
            "only showing top 5 rows\n",
            "\n"
          ]
        }
      ],
      "source": [
        "rc.select('IUCR').show(5)"
      ]
    },
    {
      "cell_type": "code",
      "execution_count": 50,
      "metadata": {
        "id": "LZNgF-PFyJl0",
        "colab": {
          "base_uri": "https://localhost:8080/"
        },
        "outputId": "b6765a97-c4b1-4f74-e3cf-994c0bb39340"
      },
      "outputs": [
        {
          "output_type": "stream",
          "name": "stdout",
          "text": [
            "+----+\n",
            "|IUCR|\n",
            "+----+\n",
            "|1582|\n",
            "|2017|\n",
            "|0326|\n",
            "|0281|\n",
            "|1320|\n",
            "+----+\n",
            "only showing top 5 rows\n",
            "\n"
          ]
        }
      ],
      "source": [
        "rc.select(rc.IUCR).show(5)"
      ]
    },
    {
      "cell_type": "code",
      "execution_count": 51,
      "metadata": {
        "id": "_G1rHnJbyJl0",
        "colab": {
          "base_uri": "https://localhost:8080/"
        },
        "outputId": "8f628428-4a14-4d73-f573-0d7dfc3a0116"
      },
      "outputs": [
        {
          "output_type": "stream",
          "name": "stdout",
          "text": [
            "+----+\n",
            "|IUCR|\n",
            "+----+\n",
            "|1582|\n",
            "|2017|\n",
            "|0326|\n",
            "|0281|\n",
            "|1320|\n",
            "+----+\n",
            "only showing top 5 rows\n",
            "\n"
          ]
        }
      ],
      "source": [
        "rc.select(col('IUCR')).show(5)"
      ]
    },
    {
      "cell_type": "code",
      "execution_count": null,
      "metadata": {
        "id": "uP_fcMxGyJl0"
      },
      "outputs": [],
      "source": []
    },
    {
      "cell_type": "markdown",
      "metadata": {
        "id": "A4u5vp73gEtB"
      },
      "source": [
        "  **Display only the first 4 rows of the column names Case Number, Date and Arrest**"
      ]
    },
    {
      "cell_type": "code",
      "execution_count": 52,
      "metadata": {
        "id": "vWhJLf41yJl1",
        "colab": {
          "base_uri": "https://localhost:8080/"
        },
        "outputId": "e01e2ab8-4c4e-485d-b48e-460d7e8fdd30"
      },
      "outputs": [
        {
          "output_type": "stream",
          "name": "stdout",
          "text": [
            "+-----------+----+------+\n",
            "|Case Number|Date|Arrest|\n",
            "+-----------+----+------+\n",
            "|   JG503434|null|  true|\n",
            "|   JG103252|null|  true|\n",
            "|   JD327000|null|  true|\n",
            "|   JB147599|null| false|\n",
            "+-----------+----+------+\n",
            "only showing top 4 rows\n",
            "\n"
          ]
        }
      ],
      "source": [
        "rc.select('Case Number','Date','Arrest').show(4)"
      ]
    },
    {
      "cell_type": "code",
      "execution_count": null,
      "metadata": {
        "id": "tV73d_TkyJl1"
      },
      "outputs": [],
      "source": []
    },
    {
      "cell_type": "code",
      "execution_count": null,
      "metadata": {
        "id": "sltirSelyJl1"
      },
      "outputs": [],
      "source": []
    },
    {
      "cell_type": "code",
      "execution_count": null,
      "metadata": {
        "id": "fEyRgddhyJl1"
      },
      "outputs": [],
      "source": []
    },
    {
      "cell_type": "markdown",
      "metadata": {
        "id": "GKnmLXJWr35c"
      },
      "source": [
        "**Add a column with name One, with entries all 1s**"
      ]
    },
    {
      "cell_type": "code",
      "execution_count": 25,
      "metadata": {
        "id": "_OhKvPoItNtK"
      },
      "outputs": [],
      "source": [
        "from pyspark.sql.functions import lit"
      ]
    },
    {
      "cell_type": "code",
      "execution_count": 53,
      "metadata": {
        "id": "dSA_eLl6uH3p",
        "colab": {
          "base_uri": "https://localhost:8080/"
        },
        "outputId": "4b2371bd-e95b-4335-c5ef-390a105f21b2"
      },
      "outputs": [
        {
          "output_type": "stream",
          "name": "stdout",
          "text": [
            "+--------+-----------+----+--------------------+----+--------------------+--------------------+--------------------+------+--------+----+--------+----+--------------+--------+------------+------------+----+--------------------+------------+-------------+--------------------+---+\n",
            "|      ID|Case Number|Date|               Block|IUCR|        Primary Type|         Description|Location Description|Arrest|Domestic|Beat|District|Ward|Community Area|FBI Code|X Coordinate|Y Coordinate|Year|          Updated On|    Latitude|    Longitude|            Location|One|\n",
            "+--------+-----------+----+--------------------+----+--------------------+--------------------+--------------------+------+--------+----+--------+----+--------------+--------+------------+------------+----+--------------------+------------+-------------+--------------------+---+\n",
            "|13311263|   JG503434|null|     023XX S TROY ST|1582|OFFENSE INVOLVING...|   CHILD PORNOGRAPHY|           RESIDENCE|  true|   false|1033|     010|  25|            30|      17|        null|        null|2022|04/18/2024 03:40:...|        null|         null|                null|  1|\n",
            "|13053066|   JG103252|null|039XX W WASHINGTO...|2017|           NARCOTICS|MANUFACTURE / DEL...|            SIDEWALK|  true|   false|1122|     011|  28|            26|      18|        null|        null|2023|01/20/2024 03:41:...|        null|         null|                null|  1|\n",
            "|12131221|   JD327000|null|   015XX N DAMEN AVE|0326|             ROBBERY|AGGRAVATED VEHICU...|              STREET|  true|   false|1424|     014|   1|            24|      03|     1162795|     1909900|2020|05/17/2025 03:40:...|41.908417822| -87.67740693|(41.908417822, -8...|  1|\n",
            "|11227634|   JB147599|null| 001XX W RANDOLPH ST|0281| CRIM SEXUAL ASSAULT|      NON-AGGRAVATED|         HOTEL/MOTEL| false|   false|0122|     001|  42|            32|      02|        null|        null|2017|02/11/2018 03:57:...|        null|         null|                null|  1|\n",
            "|13203321|   JG415333|null|    002XX N Wells st|1320|     CRIMINAL DAMAGE|          TO VEHICLE|PARKING LOT / GAR...| false|   false|0122|     001|  42|            32|      14|     1174694|     1901831|2023|11/04/2023 03:40:...|41.886018055|-87.633937881|(41.886018055, -8...|  1|\n",
            "+--------+-----------+----+--------------------+----+--------------------+--------------------+--------------------+------+--------+----+--------+----+--------------+--------+------------+------------+----+--------------------+------------+-------------+--------------------+---+\n",
            "only showing top 5 rows\n",
            "\n"
          ]
        }
      ],
      "source": [
        "rc.withColumn('One',lit(1)).show(5)"
      ]
    },
    {
      "cell_type": "code",
      "execution_count": null,
      "metadata": {
        "id": "LsweBKZNuHzA"
      },
      "outputs": [],
      "source": []
    },
    {
      "cell_type": "markdown",
      "metadata": {
        "id": "BKV2ymA2uI2h"
      },
      "source": [
        "**Remove the column IUCR**"
      ]
    },
    {
      "cell_type": "code",
      "execution_count": 27,
      "metadata": {
        "id": "3wr2Q9djtXBV",
        "colab": {
          "base_uri": "https://localhost:8080/"
        },
        "outputId": "450485b0-b4a5-4ff0-8f3a-988620c4a293"
      },
      "outputs": [
        {
          "output_type": "stream",
          "name": "stdout",
          "text": [
            "+--------+-----------+----+--------------------+--------------------+--------------------+--------------------+------+--------+----+--------+----+--------------+--------+------------+------------+----+--------------------+------------+------------+--------------------+\n",
            "|      ID|Case Number|Date|               Block|        Primary Type|         Description|Location Description|Arrest|Domestic|Beat|District|Ward|Community Area|FBI Code|X Coordinate|Y Coordinate|Year|          Updated On|    Latitude|   Longitude|            Location|\n",
            "+--------+-----------+----+--------------------+--------------------+--------------------+--------------------+------+--------+----+--------+----+--------------+--------+------------+------------+----+--------------------+------------+------------+--------------------+\n",
            "|      ID|Case Number|null|               Block|        Primary Type|         Description|Location Description|Arrest|Domestic|Beat|District|Ward|Community Area|FBI Code|X Coordinate|Y Coordinate|Year|          Updated On|    Latitude|   Longitude|            Location|\n",
            "|13311263|   JG503434|null|     023XX S TROY ST|OFFENSE INVOLVING...|   CHILD PORNOGRAPHY|           RESIDENCE|  true|   false|1033|     010|  25|            30|      17|        null|        null|2022|04/18/2024 03:40:...|        null|        null|                null|\n",
            "|13053066|   JG103252|null|039XX W WASHINGTO...|           NARCOTICS|MANUFACTURE / DEL...|            SIDEWALK|  true|   false|1122|     011|  28|            26|      18|        null|        null|2023|01/20/2024 03:41:...|        null|        null|                null|\n",
            "|12131221|   JD327000|null|   015XX N DAMEN AVE|             ROBBERY|AGGRAVATED VEHICU...|              STREET|  true|   false|1424|     014|   1|            24|      03|     1162795|     1909900|2020|05/17/2025 03:40:...|41.908417822|-87.67740693|(41.908417822, -8...|\n",
            "|11227634|   JB147599|null| 001XX W RANDOLPH ST| CRIM SEXUAL ASSAULT|      NON-AGGRAVATED|         HOTEL/MOTEL| false|   false|0122|     001|  42|            32|      02|        null|        null|2017|02/11/2018 03:57:...|        null|        null|                null|\n",
            "+--------+-----------+----+--------------------+--------------------+--------------------+--------------------+------+--------+----+--------+----+--------------+--------+------------+------------+----+--------------------+------------+------------+--------------------+\n",
            "only showing top 5 rows\n",
            "\n"
          ]
        }
      ],
      "source": [
        "rc.drop('IUCR').show(5)"
      ]
    },
    {
      "cell_type": "code",
      "execution_count": null,
      "metadata": {
        "id": "3HBJev2Ctdbo"
      },
      "outputs": [],
      "source": []
    },
    {
      "cell_type": "code",
      "source": [],
      "metadata": {
        "id": "O738q3tQyyRR"
      },
      "execution_count": null,
      "outputs": []
    },
    {
      "cell_type": "markdown",
      "metadata": {
        "id": "NiU1nhA3y0j4"
      },
      "source": [
        "## (03-05) Working with rows"
      ]
    },
    {
      "cell_type": "markdown",
      "metadata": {
        "id": "hgnCWSfNZsLV"
      },
      "source": [
        "**Add the reported crimes for an additional day, 12-Nov-2018, to our dataset.**"
      ]
    },
    {
      "cell_type": "code",
      "execution_count": 54,
      "metadata": {
        "id": "52EiVt15y0j4"
      },
      "outputs": [],
      "source": [
        "onedate=spark.read.csv('reported-crimes.csv',header=True).withColumn('Date',to_timestamp(col('Date'),'MM/dd/yyyy hh:mm:ss a')).filter(col('Date') == lit('2018-11-12'))"
      ]
    },
    {
      "cell_type": "code",
      "execution_count": 55,
      "metadata": {
        "id": "Lg5XEVXiy0j4",
        "colab": {
          "base_uri": "https://localhost:8080/"
        },
        "outputId": "cd1a59b9-af16-4f6c-a3de-2c4ba0c2aaf2"
      },
      "outputs": [
        {
          "output_type": "execute_result",
          "data": {
            "text/plain": [
              "1"
            ]
          },
          "metadata": {},
          "execution_count": 55
        }
      ],
      "source": [
        "onedate.count()"
      ]
    },
    {
      "cell_type": "code",
      "execution_count": 56,
      "metadata": {
        "id": "cZY70_Dzy0j4",
        "colab": {
          "base_uri": "https://localhost:8080/"
        },
        "outputId": "e6e63ceb-b850-4521-800e-a7c46869ccab"
      },
      "outputs": [
        {
          "output_type": "stream",
          "name": "stdout",
          "text": [
            "+--------+-----------+-------------------+--------------------+----+--------------------+--------------------+--------------------+------+--------+----+--------+----+--------------+--------+------------+------------+----+--------------------+------------+-------------+--------------------+\n",
            "|      ID|Case Number|               Date|               Block|IUCR|        Primary Type|         Description|Location Description|Arrest|Domestic|Beat|District|Ward|Community Area|FBI Code|X Coordinate|Y Coordinate|Year|          Updated On|    Latitude|    Longitude|            Location|\n",
            "+--------+-----------+-------------------+--------------------+----+--------------------+--------------------+--------------------+------+--------+----+--------+----+--------------+--------+------------+------------+----+--------------------+------------+-------------+--------------------+\n",
            "|13358766|   JH140578|2018-11-12 00:00:00|     008XX E 63RD ST|1153|  DECEPTIVE PRACTICE|FINANCIAL IDENTIT...|           APARTMENT| false|   false|0313|     003|  20|            42|      11|        null|        null|2018|02/05/2024 03:41:...|        null|         null|                null|\n",
            "|13311263|   JG503434|               null|     023XX S TROY ST|1582|OFFENSE INVOLVING...|   CHILD PORNOGRAPHY|           RESIDENCE|  true|   false|1033|     010|  25|            30|      17|        null|        null|2022|04/18/2024 03:40:...|        null|         null|                null|\n",
            "|13251829|   JG473628|               null|  083XX S WABASH AVE|0560|             ASSAULT|              SIMPLE|           RESIDENCE| false|    true|0632|     006|   6|            44|     08A|     1178165|     1849646|2023|10/30/2023 03:41:...|41.742739622|-87.622776324|(41.742739622, -8...|\n",
            "|13053066|   JG103252|               null|039XX W WASHINGTO...|2017|           NARCOTICS|MANUFACTURE / DEL...|            SIDEWALK|  true|   false|1122|     011|  28|            26|      18|        null|        null|2023|01/20/2024 03:41:...|        null|         null|                null|\n",
            "|13252302|   JG473953|               null|008XX N MARSHFIEL...|031A|             ROBBERY|     ARMED - HANDGUN|              STREET| false|   false|1213|     012|   1|            24|      03|     1165242|     1905699|2023|10/30/2023 03:41:...|41.896838285|-87.668537483|(41.896838285, -8...|\n",
            "+--------+-----------+-------------------+--------------------+----+--------------------+--------------------+--------------------+------+--------+----+--------+----+--------------+--------+------------+------------+----+--------------------+------------+-------------+--------------------+\n",
            "only showing top 5 rows\n",
            "\n"
          ]
        }
      ],
      "source": [
        "rc.union(onedate).orderBy('Date',ascending=False).show(5)"
      ]
    },
    {
      "cell_type": "code",
      "execution_count": 57,
      "metadata": {
        "id": "1fTTDzg-y0j4",
        "colab": {
          "base_uri": "https://localhost:8080/"
        },
        "outputId": "365acbc2-d85b-4966-b661-747a7bda4021"
      },
      "outputs": [
        {
          "output_type": "stream",
          "name": "stdout",
          "text": [
            "+----+\n",
            "|Date|\n",
            "+----+\n",
            "|null|\n",
            "+----+\n",
            "\n"
          ]
        }
      ],
      "source": [
        "rc.select('Date').distinct().show(5)"
      ]
    },
    {
      "cell_type": "code",
      "execution_count": null,
      "metadata": {
        "id": "PyPd5oppy0j4"
      },
      "outputs": [],
      "source": []
    },
    {
      "cell_type": "markdown",
      "metadata": {
        "id": "rzaD3gLyy0j4"
      },
      "source": [
        "**What are the top 10 number of reported crimes by Primary type, in descending order of occurence?**"
      ]
    },
    {
      "cell_type": "code",
      "execution_count": 58,
      "metadata": {
        "id": "vl3SHZdty0j5",
        "colab": {
          "base_uri": "https://localhost:8080/"
        },
        "outputId": "f660456a-07ba-484b-ccb9-ee350ce58b68"
      },
      "outputs": [
        {
          "output_type": "stream",
          "name": "stdout",
          "text": [
            "+--------------------+-----+\n",
            "|        Primary Type|count|\n",
            "+--------------------+-----+\n",
            "|OFFENSE INVOLVING...|  663|\n",
            "|CRIMINAL SEXUAL A...|  565|\n",
            "|            STALKING|  145|\n",
            "|PUBLIC PEACE VIOL...|  193|\n",
            "|           OBSCENITY|   13|\n",
            "+--------------------+-----+\n",
            "only showing top 5 rows\n",
            "\n"
          ]
        }
      ],
      "source": [
        "rc.groupBy('Primary Type').count().show(5)"
      ]
    },
    {
      "cell_type": "code",
      "execution_count": 59,
      "metadata": {
        "id": "CwuOpT8Uy0j5",
        "colab": {
          "base_uri": "https://localhost:8080/"
        },
        "outputId": "ef6a9095-9047-4f0f-cc2d-1752d0b242e2"
      },
      "outputs": [
        {
          "output_type": "stream",
          "name": "stdout",
          "text": [
            "+-------------------+-----+\n",
            "|       Primary Type|count|\n",
            "+-------------------+-----+\n",
            "|              THEFT|12896|\n",
            "|            BATTERY| 9363|\n",
            "|    CRIMINAL DAMAGE| 6174|\n",
            "|MOTOR VEHICLE THEFT| 5933|\n",
            "| DECEPTIVE PRACTICE| 5030|\n",
            "|            ASSAULT| 4843|\n",
            "|      OTHER OFFENSE| 3377|\n",
            "|            ROBBERY| 3092|\n",
            "|           BURGLARY| 1761|\n",
            "|  WEAPONS VIOLATION| 1671|\n",
            "+-------------------+-----+\n",
            "only showing top 10 rows\n",
            "\n"
          ]
        }
      ],
      "source": [
        "rc.groupBy('Primary Type').count().orderBy('count',ascending=False).show(10)"
      ]
    },
    {
      "cell_type": "code",
      "execution_count": null,
      "metadata": {
        "id": "Lxr5psb0y0j5"
      },
      "outputs": [],
      "source": []
    },
    {
      "cell_type": "code",
      "execution_count": null,
      "metadata": {
        "id": "U7PBx7_7y0j5"
      },
      "outputs": [],
      "source": []
    },
    {
      "cell_type": "code",
      "execution_count": null,
      "metadata": {
        "id": "EphdHjTCy0j5"
      },
      "outputs": [],
      "source": []
    },
    {
      "cell_type": "code",
      "execution_count": null,
      "metadata": {
        "id": "nPD0MXeMy0j5"
      },
      "outputs": [],
      "source": []
    },
    {
      "cell_type": "code",
      "execution_count": null,
      "metadata": {
        "id": "wpBN1d2uy0j5"
      },
      "outputs": [],
      "source": []
    },
    {
      "cell_type": "markdown",
      "metadata": {
        "id": "9sDnyyzozVxA"
      },
      "source": [
        "## (03-06) Challenge"
      ]
    },
    {
      "cell_type": "markdown",
      "metadata": {
        "id": "OdV2UOUczVxA"
      },
      "source": [
        "**What percentage of reported crimes resulted in an arrest?**"
      ]
    },
    {
      "cell_type": "code",
      "execution_count": 60,
      "metadata": {
        "id": "-3yQ3XA3zVxB",
        "colab": {
          "base_uri": "https://localhost:8080/"
        },
        "outputId": "6285dcae-f54d-44b1-e3c5-3770ac99ca90"
      },
      "outputs": [
        {
          "output_type": "stream",
          "name": "stdout",
          "text": [
            "+--------+-----------+----+--------------------+----+--------------------+--------------------+--------------------+------+--------+----+--------+----+--------------+--------+------------+------------+----+--------------------+------------+-------------+--------------------+\n",
            "|      ID|Case Number|Date|               Block|IUCR|        Primary Type|         Description|Location Description|Arrest|Domestic|Beat|District|Ward|Community Area|FBI Code|X Coordinate|Y Coordinate|Year|          Updated On|    Latitude|    Longitude|            Location|\n",
            "+--------+-----------+----+--------------------+----+--------------------+--------------------+--------------------+------+--------+----+--------+----+--------------+--------+------------+------------+----+--------------------+------------+-------------+--------------------+\n",
            "|13311263|   JG503434|null|     023XX S TROY ST|1582|OFFENSE INVOLVING...|   CHILD PORNOGRAPHY|           RESIDENCE|  true|   false|1033|     010|  25|            30|      17|        null|        null|2022|04/18/2024 03:40:...|        null|         null|                null|\n",
            "|13053066|   JG103252|null|039XX W WASHINGTO...|2017|           NARCOTICS|MANUFACTURE / DEL...|            SIDEWALK|  true|   false|1122|     011|  28|            26|      18|        null|        null|2023|01/20/2024 03:41:...|        null|         null|                null|\n",
            "|12131221|   JD327000|null|   015XX N DAMEN AVE|0326|             ROBBERY|AGGRAVATED VEHICU...|              STREET|  true|   false|1424|     014|   1|            24|      03|     1162795|     1909900|2020|05/17/2025 03:40:...|41.908417822| -87.67740693|(41.908417822, -8...|\n",
            "|11227634|   JB147599|null| 001XX W RANDOLPH ST|0281| CRIM SEXUAL ASSAULT|      NON-AGGRAVATED|         HOTEL/MOTEL| false|   false|0122|     001|  42|            32|      02|        null|        null|2017|02/11/2018 03:57:...|        null|         null|                null|\n",
            "|13203321|   JG415333|null|    002XX N Wells st|1320|     CRIMINAL DAMAGE|          TO VEHICLE|PARKING LOT / GAR...| false|   false|0122|     001|  42|            32|      14|     1174694|     1901831|2023|11/04/2023 03:40:...|41.886018055|-87.633937881|(41.886018055, -8...|\n",
            "+--------+-----------+----+--------------------+----+--------------------+--------------------+--------------------+------+--------+----+--------+----+--------------+--------+------------+------------+----+--------------------+------------+-------------+--------------------+\n",
            "only showing top 5 rows\n",
            "\n"
          ]
        }
      ],
      "source": [
        "rc.show(5)"
      ]
    },
    {
      "cell_type": "code",
      "execution_count": 61,
      "metadata": {
        "id": "rxCxcHFUzVxB",
        "colab": {
          "base_uri": "https://localhost:8080/"
        },
        "outputId": "cb78ccec-e8d3-45ca-acff-d48d8785ad60"
      },
      "outputs": [
        {
          "output_type": "stream",
          "name": "stdout",
          "text": [
            "+------+\n",
            "|Arrest|\n",
            "+------+\n",
            "| false|\n",
            "|  true|\n",
            "|  null|\n",
            "+------+\n",
            "\n"
          ]
        }
      ],
      "source": [
        "rc.select('Arrest').distinct().show()"
      ]
    },
    {
      "cell_type": "code",
      "execution_count": 62,
      "metadata": {
        "id": "_XguGvUFzVxB",
        "colab": {
          "base_uri": "https://localhost:8080/"
        },
        "outputId": "e7663fd7-43fd-4cf6-def8-d89c52b867ed"
      },
      "outputs": [
        {
          "output_type": "stream",
          "name": "stdout",
          "text": [
            "+------+-----+\n",
            "|Arrest|count|\n",
            "+------+-----+\n",
            "| false|51846|\n",
            "|  true| 7332|\n",
            "|  null|    1|\n",
            "+------+-----+\n",
            "\n"
          ]
        }
      ],
      "source": [
        "rc.groupBy('Arrest').count().show()"
      ]
    },
    {
      "cell_type": "code",
      "execution_count": 65,
      "metadata": {
        "id": "7zazwi5jzVxB",
        "colab": {
          "base_uri": "https://localhost:8080/"
        },
        "outputId": "09969f2a-73da-4272-96b5-fc6035939389"
      },
      "outputs": [
        {
          "output_type": "execute_result",
          "data": {
            "text/plain": [
              "0.1238953006978827"
            ]
          },
          "metadata": {},
          "execution_count": 65
        }
      ],
      "source": [
        "rc.filter(col('Arrest')=='true').count()/rc.select('Arrest').count()"
      ]
    },
    {
      "cell_type": "markdown",
      "metadata": {
        "id": "6etuZFwczVxB"
      },
      "source": [
        "  **What are the top 3 locations for reported crimes?**"
      ]
    },
    {
      "cell_type": "code",
      "execution_count": 66,
      "metadata": {
        "id": "05kJeui5zVxB",
        "colab": {
          "base_uri": "https://localhost:8080/"
        },
        "outputId": "be31a2d9-c186-468d-aac1-6c4c42c393ef"
      },
      "outputs": [
        {
          "output_type": "stream",
          "name": "stdout",
          "text": [
            "+--------------------+-----+\n",
            "|Location Description|count|\n",
            "+--------------------+-----+\n",
            "|              STREET|16544|\n",
            "|           APARTMENT|10859|\n",
            "|           RESIDENCE| 7573|\n",
            "+--------------------+-----+\n",
            "only showing top 3 rows\n",
            "\n"
          ]
        }
      ],
      "source": [
        "rc.groupBy('Location Description').count().orderBy('count',ascending=False).show(3)"
      ]
    },
    {
      "cell_type": "code",
      "execution_count": null,
      "metadata": {
        "id": "tXar05-8zVxB"
      },
      "outputs": [],
      "source": []
    },
    {
      "cell_type": "code",
      "execution_count": null,
      "metadata": {
        "id": "ScxfJKtMzVxB"
      },
      "outputs": [],
      "source": []
    },
    {
      "cell_type": "code",
      "execution_count": null,
      "metadata": {
        "id": "xDukHOJkzVxB"
      },
      "outputs": [],
      "source": []
    },
    {
      "cell_type": "code",
      "source": [],
      "metadata": {
        "id": "2hvwNPI907EQ"
      },
      "execution_count": null,
      "outputs": []
    },
    {
      "cell_type": "markdown",
      "metadata": {
        "id": "D7Dw2UpQ08-9"
      },
      "source": [
        "## (04-01) Built-in functions"
      ]
    },
    {
      "cell_type": "code",
      "execution_count": 71,
      "metadata": {
        "id": "8b9jy_g708--"
      },
      "outputs": [],
      "source": [
        "from pyspark.sql.functions import lower,upper,substring"
      ]
    },
    {
      "cell_type": "code",
      "execution_count": 78,
      "metadata": {
        "id": "z7m60N3_08--",
        "colab": {
          "base_uri": "https://localhost:8080/"
        },
        "outputId": "a16d93f5-34ab-49fa-a565-b4e9ff402679"
      },
      "outputs": [
        {
          "output_type": "stream",
          "name": "stdout",
          "text": [
            "+--------------------+--------------------+-----------------------------+\n",
            "| lower(Primary Type)| upper(Primary Type)|substring(Primary Type, 1, 4)|\n",
            "+--------------------+--------------------+-----------------------------+\n",
            "|offense involving...|OFFENSE INVOLVING...|                         OFFE|\n",
            "|           narcotics|           NARCOTICS|                         NARC|\n",
            "|             robbery|             ROBBERY|                         ROBB|\n",
            "| crim sexual assault| CRIM SEXUAL ASSAULT|                         CRIM|\n",
            "|     criminal damage|     CRIMINAL DAMAGE|                         CRIM|\n",
            "+--------------------+--------------------+-----------------------------+\n",
            "only showing top 5 rows\n",
            "\n"
          ]
        }
      ],
      "source": [
        "rc.select(lower('Primary Type'),upper(col('Primary Type')),substring(col('Primary Type'),1,4)).show(5)"
      ]
    },
    {
      "cell_type": "markdown",
      "metadata": {
        "id": "1yL-b-swunTM"
      },
      "source": [
        "### String functions"
      ]
    },
    {
      "cell_type": "markdown",
      "metadata": {
        "id": "rHp9A7wyp1L4"
      },
      "source": [
        "**Display the Primary Type column in lower and upper characters, and the first 4 characters of the column**"
      ]
    },
    {
      "cell_type": "code",
      "execution_count": null,
      "metadata": {
        "id": "BgwSt2ta08--"
      },
      "outputs": [],
      "source": []
    },
    {
      "cell_type": "markdown",
      "metadata": {
        "id": "ZYDsLbbrf6dK"
      },
      "source": [
        "### Numeric functions\n"
      ]
    },
    {
      "cell_type": "markdown",
      "metadata": {
        "id": "H5CZwvAwhpCx"
      },
      "source": [
        "**Show the oldest date and the most recent date**"
      ]
    },
    {
      "cell_type": "code",
      "execution_count": 106,
      "metadata": {
        "id": "juNQDv2108-_",
        "colab": {
          "base_uri": "https://localhost:8080/"
        },
        "outputId": "dcaff1f7-1dcf-4428-fe9d-3bdd03c7a9c3"
      },
      "outputs": [
        {
          "output_type": "stream",
          "name": "stdout",
          "text": [
            "+-------------------+-------------------+\n",
            "|           min_date|           max_date|\n",
            "+-------------------+-------------------+\n",
            "|2001-01-01 00:00:00|2025-06-10 21:00:00|\n",
            "+-------------------+-------------------+\n",
            "\n"
          ]
        }
      ],
      "source": [
        "from pyspark.sql.functions import col, min, max\n",
        "\n",
        "rc.select(\n",
        "    min(col(\"Date\")).alias(\"min_date\"),\n",
        "    max(col(\"Date\")).alias(\"max_date\")\n",
        ").show()"
      ]
    },
    {
      "cell_type": "markdown",
      "metadata": {
        "id": "4BJvThINk7o-"
      },
      "source": [
        "### Date"
      ]
    },
    {
      "cell_type": "markdown",
      "metadata": {
        "id": "Qjh1t1XamJ-E"
      },
      "source": [
        "**What is 3 days earlier that the oldest date and 3 days later than the most recent date?**"
      ]
    },
    {
      "cell_type": "code",
      "execution_count": 107,
      "metadata": {
        "id": "NMFcA4rhlOs3"
      },
      "outputs": [],
      "source": [
        "from pyspark.sql.functions import date_add, date_sub"
      ]
    },
    {
      "cell_type": "code",
      "execution_count": 108,
      "metadata": {
        "id": "6_12orCSlXPe",
        "colab": {
          "base_uri": "https://localhost:8080/"
        },
        "outputId": "a03436fa-b9c1-4365-a891-bb13730812cd"
      },
      "outputs": [
        {
          "output_type": "stream",
          "name": "stdout",
          "text": [
            "+--------------+------------+\n",
            "|3 days earlier|3 days later|\n",
            "+--------------+------------+\n",
            "|    2000-12-29|  2025-06-13|\n",
            "+--------------+------------+\n",
            "\n"
          ]
        }
      ],
      "source": [
        "rc.select(\n",
        "    date_sub(min(col(\"Date\")), 3).alias(\"3 days earlier\"),\n",
        "    date_add(max(col(\"Date\")), 3).alias(\"3 days later\")\n",
        ").show()"
      ]
    },
    {
      "cell_type": "code",
      "execution_count": null,
      "metadata": {
        "id": "b7gl5IbB08-_"
      },
      "outputs": [],
      "source": []
    },
    {
      "cell_type": "code",
      "execution_count": null,
      "metadata": {
        "id": "gC1spS8LhBtJ"
      },
      "outputs": [],
      "source": []
    },
    {
      "cell_type": "code",
      "source": [],
      "metadata": {
        "id": "vpb4-TQA13M6"
      },
      "execution_count": null,
      "outputs": []
    },
    {
      "cell_type": "markdown",
      "metadata": {
        "id": "hiKFyArf14B0"
      },
      "source": [
        "## (04-02) Working with dates"
      ]
    },
    {
      "cell_type": "code",
      "execution_count": 112,
      "metadata": {
        "id": "9npwvNTx1SCj"
      },
      "outputs": [],
      "source": [
        "from pyspark.sql.functions import to_date, to_timestamp, lit"
      ]
    },
    {
      "cell_type": "code",
      "execution_count": 109,
      "metadata": {
        "id": "T72w9V0mK0K2",
        "colab": {
          "base_uri": "https://localhost:8080/"
        },
        "outputId": "b925a59b-2ccf-4078-beaf-09c2066156b5"
      },
      "outputs": [
        {
          "output_type": "stream",
          "name": "stdout",
          "text": [
            "+-------------------+\n",
            "|          Christmas|\n",
            "+-------------------+\n",
            "|2019-12-25 13:30:00|\n",
            "+-------------------+\n",
            "\n"
          ]
        }
      ],
      "source": [
        "df=spark.createDataFrame([('2019-12-25 13:30:00',)],['Christmas'])\n",
        "df.show()"
      ]
    },
    {
      "cell_type": "markdown",
      "metadata": {
        "id": "WkUMZnY5yc6q"
      },
      "source": [
        "  **2019-12-25 13:30:00**"
      ]
    },
    {
      "cell_type": "code",
      "execution_count": 117,
      "metadata": {
        "id": "vvFFnqmQ14B0",
        "colab": {
          "base_uri": "https://localhost:8080/"
        },
        "outputId": "4e69eda1-2646-4cee-cb7e-d4b441f12260"
      },
      "outputs": [
        {
          "output_type": "stream",
          "name": "stdout",
          "text": [
            "+---------------------------------------+\n",
            "|to_date(Christmas, yyyy-MM-dd HH:mm:ss)|\n",
            "+---------------------------------------+\n",
            "|                             2019-12-25|\n",
            "+---------------------------------------+\n",
            "\n"
          ]
        }
      ],
      "source": [
        "df.select(to_date(col('Christmas'),'yyyy-MM-dd HH:mm:ss')).show()"
      ]
    },
    {
      "cell_type": "code",
      "execution_count": null,
      "metadata": {
        "id": "87RJNjRty-W7"
      },
      "outputs": [],
      "source": []
    },
    {
      "cell_type": "code",
      "execution_count": null,
      "metadata": {
        "id": "YbSNtcMSQAiH"
      },
      "outputs": [],
      "source": []
    },
    {
      "cell_type": "markdown",
      "metadata": {
        "id": "r57RvNLFy1qr"
      },
      "source": [
        "**25/Dec/2019 13:30:00**"
      ]
    },
    {
      "cell_type": "code",
      "execution_count": 120,
      "metadata": {
        "id": "qWSM7QZIy1O7",
        "colab": {
          "base_uri": "https://localhost:8080/"
        },
        "outputId": "c59551d7-8079-4329-d136-40d4a311dd6d"
      },
      "outputs": [
        {
          "output_type": "stream",
          "name": "stdout",
          "text": [
            "+----------------------------------------+\n",
            "|to_date(Christmas, yyyy/MMM/dd HH:mm:ss)|\n",
            "+----------------------------------------+\n",
            "|                              2019-12-25|\n",
            "+----------------------------------------+\n",
            "\n"
          ]
        }
      ],
      "source": [
        "df=spark.createDataFrame([('2019/DEC/25 13:30:00',)],['Christmas'])\n",
        "df.select(to_date(col('Christmas'),'yyyy/MMM/dd HH:mm:ss')).show()\n"
      ]
    },
    {
      "cell_type": "code",
      "execution_count": null,
      "metadata": {
        "id": "_Bth-66Zy_na"
      },
      "outputs": [],
      "source": []
    },
    {
      "cell_type": "code",
      "execution_count": null,
      "metadata": {
        "id": "oX5JKpxiy_dT"
      },
      "outputs": [],
      "source": []
    },
    {
      "cell_type": "markdown",
      "metadata": {
        "id": "4DcjnoaKzBQr"
      },
      "source": [
        "**12/25/2019 01:30:00 PM**"
      ]
    },
    {
      "cell_type": "code",
      "execution_count": 127,
      "metadata": {
        "id": "WldJB29T80O2",
        "colab": {
          "base_uri": "https://localhost:8080/"
        },
        "outputId": "1dc190fd-3f0c-45a1-c4e0-36d820a941cf"
      },
      "outputs": [
        {
          "output_type": "stream",
          "name": "stdout",
          "text": [
            "+-----------------------------------------+\n",
            "|to_date(Christmas, MM/dd/yyyy hh:mm:ss a)|\n",
            "+-----------------------------------------+\n",
            "|                               2019-12-25|\n",
            "+-----------------------------------------+\n",
            "\n",
            "+----------------------------------------------+\n",
            "|to_timestamp(Christmas, MM/dd/yyyy hh:mm:ss a)|\n",
            "+----------------------------------------------+\n",
            "|                           2019-12-25 13:30:00|\n",
            "+----------------------------------------------+\n",
            "\n"
          ]
        }
      ],
      "source": [
        "from pyspark.sql.functions import to_date, to_timestamp, col\n",
        "\n",
        "df = spark.createDataFrame([('12/25/2019 01:30:00 PM',)], ['Christmas'])\n",
        "\n",
        "# if you only want the calendar date\n",
        "df.select(to_date(col('Christmas'), 'MM/dd/yyyy hh:mm:ss a')).show()\n",
        "\n",
        "# if you want full timestamp (date + time)\n",
        "df.select(to_timestamp(col('Christmas'), 'MM/dd/yyyy hh:mm:ss a')).show()"
      ]
    },
    {
      "cell_type": "code",
      "execution_count": null,
      "metadata": {
        "id": "SqOg9qzQRAbi"
      },
      "outputs": [],
      "source": []
    },
    {
      "cell_type": "code",
      "execution_count": null,
      "metadata": {
        "id": "YupfXKVpRhg6"
      },
      "outputs": [],
      "source": []
    },
    {
      "cell_type": "code",
      "source": [],
      "metadata": {
        "id": "6SwZtjvL2Ugj"
      },
      "execution_count": null,
      "outputs": []
    },
    {
      "cell_type": "markdown",
      "metadata": {
        "id": "9lAyzg282V_4"
      },
      "source": [
        "## (04-03) Joins"
      ]
    },
    {
      "cell_type": "markdown",
      "metadata": {
        "id": "5klVM9jJZBDl"
      },
      "source": [
        "**Download police station data**"
      ]
    },
    {
      "cell_type": "code",
      "execution_count": 146,
      "metadata": {
        "id": "c7CFhY3K2V_5"
      },
      "outputs": [],
      "source": [
        "file_path = \"/content/police-station.csv\""
      ]
    },
    {
      "cell_type": "code",
      "execution_count": 149,
      "metadata": {
        "id": "3-igLcB-wyWG",
        "colab": {
          "base_uri": "https://localhost:8080/"
        },
        "outputId": "156574f4-45bc-43a8-e161-2c4c6fc03ec0"
      },
      "outputs": [
        {
          "output_type": "stream",
          "name": "stdout",
          "text": [
            "+------------+-------------+-------------------+-------+-----+-----+--------------------+------------+------------+------------+------------+------------+-----------+------------+--------------------+\n",
            "|    DISTRICT|DISTRICT NAME|            ADDRESS|   CITY|STATE|  ZIP|             WEBSITE|       PHONE|         FAX|         TTY|X COORDINATE|Y COORDINATE|   LATITUDE|   LONGITUDE|            LOCATION|\n",
            "+------------+-------------+-------------------+-------+-----+-----+--------------------+------------+------------+------------+------------+------------+-----------+------------+--------------------+\n",
            "|Headquarters| Headquarters|3510 S Michigan Ave|Chicago|   IL|60653|http://home.chica...|        null|        null|        null| 1177731.401| 1881697.404|41.83070169|-87.62339535|(41.8307016873, -...|\n",
            "|          18|   Near North| 1160 N Larrabee St|Chicago|   IL|60610|http://home.chica...|312-742-5870|312-742-5771|312-742-5773| 1172080.029| 1908086.527|41.90324165|-87.64335214|(41.9032416531, -...|\n",
            "|          19|    Town Hall|   850 W Addison St|Chicago|   IL|60613|http://home.chica...|312-744-8320|312-744-4481|312-744-8011| 1169730.744| 1924160.317|41.94740046|-87.65151202|(41.9474004564, -...|\n",
            "|          20|      Lincoln| 5400 N Lincoln Ave|Chicago|   IL|60625|http://home.chica...|312-742-8714|312-742-8803|312-742-8841| 1158399.146| 1935788.826|41.97954951|-87.69284451|(41.9795495131, -...|\n",
            "|          22|  Morgan Park|1900 W Monterey Ave|Chicago|   IL|60643|http://home.chica...|312-745-0710|312-745-0814|312-745-0569| 1165825.476| 1830851.333|41.69143478|-87.66852039|(41.6914347795, -...|\n",
            "+------------+-------------+-------------------+-------+-----+-----+--------------------+------------+------------+------------+------------+------------+-----------+------------+--------------------+\n",
            "only showing top 5 rows\n",
            "\n"
          ]
        }
      ],
      "source": [
        "ps=spark.read.csv(file_path,header=True)\n",
        "ps.show(5)"
      ]
    },
    {
      "cell_type": "code",
      "execution_count": null,
      "metadata": {
        "id": "Wz8D-NF2wyQb"
      },
      "outputs": [],
      "source": []
    },
    {
      "cell_type": "markdown",
      "metadata": {
        "id": "CdBqB9Oiw0gV"
      },
      "source": [
        "**The reported crimes dataset has only the district number. Add the district name by joining with the police station dataset**"
      ]
    },
    {
      "cell_type": "code",
      "execution_count": 150,
      "metadata": {
        "id": "S84o4-yZ2V_5",
        "colab": {
          "base_uri": "https://localhost:8080/"
        },
        "outputId": "56bb7d05-bef8-4167-a171-21425c98c73d"
      },
      "outputs": [
        {
          "output_type": "execute_result",
          "data": {
            "text/plain": [
              "59179"
            ]
          },
          "metadata": {},
          "execution_count": 150
        }
      ],
      "source": [
        "rc.cache()\n",
        "rc.count()"
      ]
    },
    {
      "cell_type": "code",
      "execution_count": 151,
      "metadata": {
        "id": "GP90Bm-lc52-",
        "colab": {
          "base_uri": "https://localhost:8080/"
        },
        "outputId": "02c65637-7b72-416e-abb7-de90e7b5cf89"
      },
      "outputs": [
        {
          "output_type": "stream",
          "name": "stdout",
          "text": [
            "+------------+\n",
            "|    DISTRICT|\n",
            "+------------+\n",
            "|           7|\n",
            "|          15|\n",
            "|          11|\n",
            "|           3|\n",
            "|           8|\n",
            "|          22|\n",
            "|          16|\n",
            "|           5|\n",
            "|          18|\n",
            "|          17|\n",
            "|           6|\n",
            "|          19|\n",
            "|          25|\n",
            "| \",\"Chicago\"|\n",
            "|Headquarters|\n",
            "|          24|\n",
            "|           9|\n",
            "|           1|\n",
            "|          20|\n",
            "|          10|\n",
            "|           4|\n",
            "|          12|\n",
            "|          14|\n",
            "|           2|\n",
            "+------------+\n",
            "\n"
          ]
        }
      ],
      "source": [
        "ps.select('DISTRICT').distinct().show(30)"
      ]
    },
    {
      "cell_type": "code",
      "execution_count": 152,
      "metadata": {
        "id": "zbdoVA6Gc6mG",
        "colab": {
          "base_uri": "https://localhost:8080/"
        },
        "outputId": "2e30006d-d45c-495d-dc93-e7f72e05f016"
      },
      "outputs": [
        {
          "output_type": "stream",
          "name": "stdout",
          "text": [
            "+--------+\n",
            "|District|\n",
            "+--------+\n",
            "|     009|\n",
            "|     012|\n",
            "|     024|\n",
            "|     031|\n",
            "|     015|\n",
            "|     006|\n",
            "|     019|\n",
            "|     020|\n",
            "|     011|\n",
            "|     025|\n",
            "|     005|\n",
            "|     003|\n",
            "|     016|\n",
            "|     018|\n",
            "|     008|\n",
            "|     022|\n",
            "|     001|\n",
            "|     014|\n",
            "|     010|\n",
            "|     004|\n",
            "|     017|\n",
            "|     007|\n",
            "|     002|\n",
            "|      16|\n",
            "|    null|\n",
            "+--------+\n",
            "\n"
          ]
        }
      ],
      "source": [
        "rc.select('District').distinct().show(30)"
      ]
    },
    {
      "cell_type": "code",
      "execution_count": 154,
      "metadata": {
        "id": "V06UpJ4Tc7oJ"
      },
      "outputs": [],
      "source": [
        "from pyspark.sql.functions import lpad"
      ]
    },
    {
      "cell_type": "code",
      "execution_count": 155,
      "metadata": {
        "id": "S_YiRfSgc7em",
        "colab": {
          "base_uri": "https://localhost:8080/"
        },
        "outputId": "fa7e2308-9bad-4fee-c5d7-b4ab1c4a2a81"
      },
      "outputs": [
        {
          "output_type": "stream",
          "name": "stdout",
          "text": [
            "+--------------------+\n",
            "|lpad(DISTRICT, 3, 0)|\n",
            "+--------------------+\n",
            "|                 Hea|\n",
            "|                 018|\n",
            "|                 019|\n",
            "|                 020|\n",
            "|                 022|\n",
            "|                 024|\n",
            "|                 025|\n",
            "|                 001|\n",
            "|                 002|\n",
            "|                 003|\n",
            "|                 004|\n",
            "|                 005|\n",
            "|                 006|\n",
            "|                 007|\n",
            "|                 008|\n",
            "|                 009|\n",
            "|                 010|\n",
            "|                 011|\n",
            "|                 012|\n",
            "|                 \",\"|\n",
            "+--------------------+\n",
            "only showing top 20 rows\n",
            "\n"
          ]
        }
      ],
      "source": [
        "ps.select(lpad(col('DISTRICT'),3,'0')).show()"
      ]
    },
    {
      "cell_type": "code",
      "execution_count": 156,
      "metadata": {
        "id": "nWQMpWQec7SO",
        "colab": {
          "base_uri": "https://localhost:8080/"
        },
        "outputId": "69dee58a-5170-4e24-aed2-6e0993e0de0a"
      },
      "outputs": [
        {
          "output_type": "stream",
          "name": "stdout",
          "text": [
            "+------------+-------------+-------------------+-------+-----+-----+--------------------+------------+------------+------------+------------+------------+-----------+------------+--------------------+---------------+\n",
            "|    DISTRICT|DISTRICT NAME|            ADDRESS|   CITY|STATE|  ZIP|             WEBSITE|       PHONE|         FAX|         TTY|X COORDINATE|Y COORDINATE|   LATITUDE|   LONGITUDE|            LOCATION|Format_district|\n",
            "+------------+-------------+-------------------+-------+-----+-----+--------------------+------------+------------+------------+------------+------------+-----------+------------+--------------------+---------------+\n",
            "|Headquarters| Headquarters|3510 S Michigan Ave|Chicago|   IL|60653|http://home.chica...|        null|        null|        null| 1177731.401| 1881697.404|41.83070169|-87.62339535|(41.8307016873, -...|            Hea|\n",
            "|          18|   Near North| 1160 N Larrabee St|Chicago|   IL|60610|http://home.chica...|312-742-5870|312-742-5771|312-742-5773| 1172080.029| 1908086.527|41.90324165|-87.64335214|(41.9032416531, -...|            018|\n",
            "|          19|    Town Hall|   850 W Addison St|Chicago|   IL|60613|http://home.chica...|312-744-8320|312-744-4481|312-744-8011| 1169730.744| 1924160.317|41.94740046|-87.65151202|(41.9474004564, -...|            019|\n",
            "|          20|      Lincoln| 5400 N Lincoln Ave|Chicago|   IL|60625|http://home.chica...|312-742-8714|312-742-8803|312-742-8841| 1158399.146| 1935788.826|41.97954951|-87.69284451|(41.9795495131, -...|            020|\n",
            "|          22|  Morgan Park|1900 W Monterey Ave|Chicago|   IL|60643|http://home.chica...|312-745-0710|312-745-0814|312-745-0569| 1165825.476| 1830851.333|41.69143478|-87.66852039|(41.6914347795, -...|            022|\n",
            "+------------+-------------+-------------------+-------+-----+-----+--------------------+------------+------------+------------+------------+------------+-----------+------------+--------------------+---------------+\n",
            "only showing top 5 rows\n",
            "\n"
          ]
        }
      ],
      "source": [
        "ps=ps.withColumn('Format_district',lpad(col('DISTRICT'),3,'0'))\n",
        "ps.show(5)"
      ]
    },
    {
      "cell_type": "code",
      "execution_count": 158,
      "metadata": {
        "id": "n4eBu-vMc6bN",
        "colab": {
          "base_uri": "https://localhost:8080/"
        },
        "outputId": "7350a392-d082-4aed-9b32-24f9104a8c7c"
      },
      "outputs": [
        {
          "output_type": "stream",
          "name": "stdout",
          "text": [
            "+--------+-----------+-------------------+--------------------+----+--------------------+--------------------+--------------------+------+--------+----+--------+----+--------------+--------+------------+------------+----+--------------------+------------+-------------+--------------------+--------+-------------+--------------------+-------+-----+-----+--------------------+------------+------------+------------+------------+------------+-----------+------------+--------------------+---------------+\n",
            "|      ID|Case Number|               Date|               Block|IUCR|        Primary Type|         Description|Location Description|Arrest|Domestic|Beat|District|Ward|Community Area|FBI Code|X Coordinate|Y Coordinate|Year|          Updated On|    Latitude|    Longitude|            Location|DISTRICT|DISTRICT NAME|             ADDRESS|   CITY|STATE|  ZIP|             WEBSITE|       PHONE|         FAX|         TTY|X COORDINATE|Y COORDINATE|   LATITUDE|   LONGITUDE|            LOCATION|Format_district|\n",
            "+--------+-----------+-------------------+--------------------+----+--------------------+--------------------+--------------------+------+--------+----+--------+----+--------------+--------+------------+------------+----+--------------------+------------+-------------+--------------------+--------+-------------+--------------------+-------+-----+-----+--------------------+------------+------------+------------+------------+------------+-----------+------------+--------------------+---------------+\n",
            "|13311263|   JG503434|2022-07-29 03:39:00|     023XX S TROY ST|1582|OFFENSE INVOLVING...|   CHILD PORNOGRAPHY|           RESIDENCE|  true|   false|1033|     010|  25|            30|      17|        null|        null|2022|04/18/2024 03:40:...|        null|         null|                null|      10|        Ogden|    3315 W Ogden Ave|Chicago|   IL|60623|http://home.chica...|312-747-7511|312-747-7429|312-747-7471| 1154500.753| 1890985.501|41.85668453|-87.70838196|(41.8566845327, -...|            010|\n",
            "|13053066|   JG103252|2023-01-03 16:44:00|039XX W WASHINGTO...|2017|           NARCOTICS|MANUFACTURE / DEL...|            SIDEWALK|  true|   false|1122|     011|  28|            26|      18|        null|        null|2023|01/20/2024 03:41:...|        null|         null|                null|      11|     Harrison|  3151 W Harrison St|Chicago|   IL|60612|http://home.chica...|312-746-8386|312-746-4281|312-746-5151| 1155244.069| 1897148.755|41.87358229|-87.70548813|(41.8735822883, -...|            011|\n",
            "|12131221|   JD327000|2020-08-10 09:45:00|   015XX N DAMEN AVE|0326|             ROBBERY|AGGRAVATED VEHICU...|              STREET|  true|   false|1424|     014|   1|            24|      03|     1162795|     1909900|2020|05/17/2025 03:40:...|41.908417822| -87.67740693|(41.908417822, -8...|      14|  Shakespeare|2150 N California...|Chicago|   IL|60647|http://home.chica...|312-744-8250|312-744-2422|312-744-8260| 1157304.426| 1914481.521|41.92110332|-87.69745182|(41.9211033246, -...|            014|\n",
            "|11227634|   JB147599|2017-08-26 10:00:00| 001XX W RANDOLPH ST|0281| CRIM SEXUAL ASSAULT|      NON-AGGRAVATED|         HOTEL/MOTEL| false|   false|0122|     001|  42|            32|      02|        null|        null|2017|02/11/2018 03:57:...|        null|         null|                null|       1|      Central|     1718 S State St|Chicago|   IL|60616|http://home.chica...|312-745-4290|312-745-3694|312-745-3693| 1176569.052| 1891771.704|41.85837259|-87.62735617|(41.8583725929, -...|            001|\n",
            "|13203321|   JG415333|2023-09-06 17:00:00|    002XX N Wells st|1320|     CRIMINAL DAMAGE|          TO VEHICLE|PARKING LOT / GAR...| false|   false|0122|     001|  42|            32|      14|     1174694|     1901831|2023|11/04/2023 03:40:...|41.886018055|-87.633937881|(41.886018055, -8...|       1|      Central|     1718 S State St|Chicago|   IL|60616|http://home.chica...|312-745-4290|312-745-3694|312-745-3693| 1176569.052| 1891771.704|41.85837259|-87.62735617|(41.8583725929, -...|            001|\n",
            "+--------+-----------+-------------------+--------------------+----+--------------------+--------------------+--------------------+------+--------+----+--------+----+--------------+--------+------------+------------+----+--------------------+------------+-------------+--------------------+--------+-------------+--------------------+-------+-----+-----+--------------------+------------+------------+------------+------------+------------+-----------+------------+--------------------+---------------+\n",
            "only showing top 5 rows\n",
            "\n"
          ]
        }
      ],
      "source": [
        "rc.join(ps, rc.District==ps.Format_district,'left_outer').show(5)"
      ]
    },
    {
      "cell_type": "code",
      "execution_count": 159,
      "metadata": {
        "id": "8CR9XUeCc6Tn",
        "colab": {
          "base_uri": "https://localhost:8080/"
        },
        "outputId": "29db7964-3c94-4201-cdd8-fe6c2ff87d5c"
      },
      "outputs": [
        {
          "output_type": "stream",
          "name": "stdout",
          "text": [
            "+--------+-----------+-------------------+--------------------+----+--------------------+--------------------+--------------------+------+--------+----+--------+----+--------------+--------+------------+------------+----+--------------------+------------+-------------+--------------------+--------+-------------+-------+-----+-----+------------+------------+------------+-----------+------------+--------------------+---------------+\n",
            "|      ID|Case Number|               Date|               Block|IUCR|        Primary Type|         Description|Location Description|Arrest|Domestic|Beat|District|Ward|Community Area|FBI Code|X Coordinate|Y Coordinate|Year|          Updated On|    Latitude|    Longitude|            Location|DISTRICT|DISTRICT NAME|   CITY|STATE|  ZIP|         TTY|X COORDINATE|Y COORDINATE|   LATITUDE|   LONGITUDE|            LOCATION|Format_district|\n",
            "+--------+-----------+-------------------+--------------------+----+--------------------+--------------------+--------------------+------+--------+----+--------+----+--------------+--------+------------+------------+----+--------------------+------------+-------------+--------------------+--------+-------------+-------+-----+-----+------------+------------+------------+-----------+------------+--------------------+---------------+\n",
            "|13311263|   JG503434|2022-07-29 03:39:00|     023XX S TROY ST|1582|OFFENSE INVOLVING...|   CHILD PORNOGRAPHY|           RESIDENCE|  true|   false|1033|     010|  25|            30|      17|        null|        null|2022|04/18/2024 03:40:...|        null|         null|                null|      10|        Ogden|Chicago|   IL|60623|312-747-7471| 1154500.753| 1890985.501|41.85668453|-87.70838196|(41.8566845327, -...|            010|\n",
            "|13053066|   JG103252|2023-01-03 16:44:00|039XX W WASHINGTO...|2017|           NARCOTICS|MANUFACTURE / DEL...|            SIDEWALK|  true|   false|1122|     011|  28|            26|      18|        null|        null|2023|01/20/2024 03:41:...|        null|         null|                null|      11|     Harrison|Chicago|   IL|60612|312-746-5151| 1155244.069| 1897148.755|41.87358229|-87.70548813|(41.8735822883, -...|            011|\n",
            "|12131221|   JD327000|2020-08-10 09:45:00|   015XX N DAMEN AVE|0326|             ROBBERY|AGGRAVATED VEHICU...|              STREET|  true|   false|1424|     014|   1|            24|      03|     1162795|     1909900|2020|05/17/2025 03:40:...|41.908417822| -87.67740693|(41.908417822, -8...|      14|  Shakespeare|Chicago|   IL|60647|312-744-8260| 1157304.426| 1914481.521|41.92110332|-87.69745182|(41.9211033246, -...|            014|\n",
            "|11227634|   JB147599|2017-08-26 10:00:00| 001XX W RANDOLPH ST|0281| CRIM SEXUAL ASSAULT|      NON-AGGRAVATED|         HOTEL/MOTEL| false|   false|0122|     001|  42|            32|      02|        null|        null|2017|02/11/2018 03:57:...|        null|         null|                null|       1|      Central|Chicago|   IL|60616|312-745-3693| 1176569.052| 1891771.704|41.85837259|-87.62735617|(41.8583725929, -...|            001|\n",
            "|13203321|   JG415333|2023-09-06 17:00:00|    002XX N Wells st|1320|     CRIMINAL DAMAGE|          TO VEHICLE|PARKING LOT / GAR...| false|   false|0122|     001|  42|            32|      14|     1174694|     1901831|2023|11/04/2023 03:40:...|41.886018055|-87.633937881|(41.886018055, -8...|       1|      Central|Chicago|   IL|60616|312-745-3693| 1176569.052| 1891771.704|41.85837259|-87.62735617|(41.8583725929, -...|            001|\n",
            "+--------+-----------+-------------------+--------------------+----+--------------------+--------------------+--------------------+------+--------+----+--------+----+--------------+--------+------------+------------+----+--------------------+------------+-------------+--------------------+--------+-------------+-------+-----+-----+------------+------------+------------+-----------+------------+--------------------+---------------+\n",
            "only showing top 5 rows\n",
            "\n"
          ]
        }
      ],
      "source": [
        "rc.join(ps, rc.District==ps.Format_district,'left_outer').drop('ADDRESS','PHONE','WEBSITE','FAX','UPDATE_ON','LAT','LON').show(5)"
      ]
    },
    {
      "cell_type": "code",
      "execution_count": null,
      "metadata": {
        "id": "PxL3DKpPc6KG"
      },
      "outputs": [],
      "source": []
    },
    {
      "cell_type": "code",
      "source": [],
      "metadata": {
        "id": "WtFqwWp73ARQ"
      },
      "execution_count": null,
      "outputs": []
    },
    {
      "cell_type": "markdown",
      "metadata": {
        "id": "-aQQ2gBF3Azz"
      },
      "source": [
        "## (04-05) Challenge questions"
      ]
    },
    {
      "cell_type": "markdown",
      "metadata": {
        "id": "AopcTx5q3Az0"
      },
      "source": [
        "**What is the most frequently reported non-criminal activity?**"
      ]
    },
    {
      "cell_type": "code",
      "execution_count": 160,
      "metadata": {
        "id": "PEw5vyF63Az0",
        "colab": {
          "base_uri": "https://localhost:8080/"
        },
        "outputId": "a7973adf-7fad-4b49-bf52-c598872c680c"
      },
      "outputs": [
        {
          "output_type": "stream",
          "name": "stdout",
          "text": [
            "+--------+-----------+-------------------+--------------------+----+--------------------+--------------------+--------------------+------+--------+----+--------+----+--------------+--------+------------+------------+----+--------------------+------------+-------------+--------------------+\n",
            "|      ID|Case Number|               Date|               Block|IUCR|        Primary Type|         Description|Location Description|Arrest|Domestic|Beat|District|Ward|Community Area|FBI Code|X Coordinate|Y Coordinate|Year|          Updated On|    Latitude|    Longitude|            Location|\n",
            "+--------+-----------+-------------------+--------------------+----+--------------------+--------------------+--------------------+------+--------+----+--------+----+--------------+--------+------------+------------+----+--------------------+------------+-------------+--------------------+\n",
            "|13311263|   JG503434|2022-07-29 03:39:00|     023XX S TROY ST|1582|OFFENSE INVOLVING...|   CHILD PORNOGRAPHY|           RESIDENCE|  true|   false|1033|     010|  25|            30|      17|        null|        null|2022|04/18/2024 03:40:...|        null|         null|                null|\n",
            "|13053066|   JG103252|2023-01-03 16:44:00|039XX W WASHINGTO...|2017|           NARCOTICS|MANUFACTURE / DEL...|            SIDEWALK|  true|   false|1122|     011|  28|            26|      18|        null|        null|2023|01/20/2024 03:41:...|        null|         null|                null|\n",
            "|12131221|   JD327000|2020-08-10 09:45:00|   015XX N DAMEN AVE|0326|             ROBBERY|AGGRAVATED VEHICU...|              STREET|  true|   false|1424|     014|   1|            24|      03|     1162795|     1909900|2020|05/17/2025 03:40:...|41.908417822| -87.67740693|(41.908417822, -8...|\n",
            "|11227634|   JB147599|2017-08-26 10:00:00| 001XX W RANDOLPH ST|0281| CRIM SEXUAL ASSAULT|      NON-AGGRAVATED|         HOTEL/MOTEL| false|   false|0122|     001|  42|            32|      02|        null|        null|2017|02/11/2018 03:57:...|        null|         null|                null|\n",
            "|13203321|   JG415333|2023-09-06 17:00:00|    002XX N Wells st|1320|     CRIMINAL DAMAGE|          TO VEHICLE|PARKING LOT / GAR...| false|   false|0122|     001|  42|            32|      14|     1174694|     1901831|2023|11/04/2023 03:40:...|41.886018055|-87.633937881|(41.886018055, -8...|\n",
            "+--------+-----------+-------------------+--------------------+----+--------------------+--------------------+--------------------+------+--------+----+--------+----+--------------+--------+------------+------------+----+--------------------+------------+-------------+--------------------+\n",
            "only showing top 5 rows\n",
            "\n"
          ]
        }
      ],
      "source": [
        "rc.show(5)"
      ]
    },
    {
      "cell_type": "code",
      "execution_count": 166,
      "metadata": {
        "id": "p1k8sxcY3Az0",
        "colab": {
          "base_uri": "https://localhost:8080/"
        },
        "outputId": "9b0e7393-c8a8-463c-84c4-0ba77df67eac"
      },
      "outputs": [
        {
          "output_type": "stream",
          "name": "stdout",
          "text": [
            "+---------------------------------+\n",
            "|Primary Type                     |\n",
            "+---------------------------------+\n",
            "|null                             |\n",
            "|ARSON                            |\n",
            "|ASSAULT                          |\n",
            "|BATTERY                          |\n",
            "|BURGLARY                         |\n",
            "|CONCEALED CARRY LICENSE VIOLATION|\n",
            "|CRIM SEXUAL ASSAULT              |\n",
            "|CRIMINAL DAMAGE                  |\n",
            "|CRIMINAL SEXUAL ASSAULT          |\n",
            "|CRIMINAL TRESPASS                |\n",
            "|DECEPTIVE PRACTICE               |\n",
            "|GAMBLING                         |\n",
            "|HOMICIDE                         |\n",
            "|HUMAN TRAFFICKING                |\n",
            "|INTERFERENCE WITH PUBLIC OFFICER |\n",
            "|INTIMIDATION                     |\n",
            "|KIDNAPPING                       |\n",
            "|LIQUOR LAW VIOLATION             |\n",
            "|MOTOR VEHICLE THEFT              |\n",
            "|NARCOTICS                        |\n",
            "|OBSCENITY                        |\n",
            "|OFFENSE INVOLVING CHILDREN       |\n",
            "|OTHER NARCOTIC VIOLATION         |\n",
            "|OTHER OFFENSE                    |\n",
            "|PROSTITUTION                     |\n",
            "|PUBLIC PEACE VIOLATION           |\n",
            "|ROBBERY                          |\n",
            "|SEX OFFENSE                      |\n",
            "|STALKING                         |\n",
            "|THEFT                            |\n",
            "|WEAPONS VIOLATION                |\n",
            "+---------------------------------+\n",
            "\n"
          ]
        }
      ],
      "source": [
        "rc.select(col('Primary Type')).distinct().orderBy(col('Primary Type')).show(31,truncate=False)"
      ]
    },
    {
      "cell_type": "code",
      "execution_count": null,
      "metadata": {
        "id": "cODrDxdb3Az0"
      },
      "outputs": [],
      "source": []
    },
    {
      "cell_type": "code",
      "execution_count": null,
      "metadata": {
        "id": "Vf5DPbQ43Az0"
      },
      "outputs": [],
      "source": []
    },
    {
      "cell_type": "code",
      "execution_count": null,
      "metadata": {
        "id": "5uC0WTu8KI59"
      },
      "outputs": [],
      "source": []
    },
    {
      "cell_type": "code",
      "execution_count": null,
      "metadata": {
        "id": "AHOdjsiBKI0W"
      },
      "outputs": [],
      "source": []
    },
    {
      "cell_type": "code",
      "execution_count": null,
      "metadata": {
        "id": "e5J1WQkBKIuN"
      },
      "outputs": [],
      "source": []
    },
    {
      "cell_type": "code",
      "execution_count": null,
      "metadata": {
        "id": "Sx76PSOIKImG"
      },
      "outputs": [],
      "source": []
    },
    {
      "cell_type": "markdown",
      "metadata": {
        "id": "ff7cLpWh3Az0"
      },
      "source": [
        "**Using a bar chart, plot which day of the week has the most number of reported crime.**"
      ]
    },
    {
      "cell_type": "code",
      "execution_count": 168,
      "metadata": {
        "id": "mo8JV7083Az0"
      },
      "outputs": [],
      "source": [
        "from pyspark.sql.functions import dayofweek"
      ]
    },
    {
      "cell_type": "code",
      "execution_count": 169,
      "metadata": {
        "id": "w0UWY8A13Az0",
        "colab": {
          "base_uri": "https://localhost:8080/"
        },
        "outputId": "93055e23-a65f-4ac3-ead4-816d9f938740"
      },
      "outputs": [
        {
          "output_type": "stream",
          "name": "stdout",
          "text": [
            "+-------------------+---------------+\n",
            "|               Date|dayofweek(Date)|\n",
            "+-------------------+---------------+\n",
            "|2022-07-29 03:39:00|              6|\n",
            "|2023-01-03 16:44:00|              3|\n",
            "|2020-08-10 09:45:00|              2|\n",
            "|2017-08-26 10:00:00|              7|\n",
            "|2023-09-06 17:00:00|              4|\n",
            "+-------------------+---------------+\n",
            "only showing top 5 rows\n",
            "\n"
          ]
        }
      ],
      "source": [
        "rc.select(col('Date'),dayofweek(col('Date'))).show(5)"
      ]
    },
    {
      "cell_type": "code",
      "execution_count": 170,
      "metadata": {
        "id": "3OMXnCYr3Az0"
      },
      "outputs": [],
      "source": [
        "from pyspark.sql.functions import date_format"
      ]
    },
    {
      "cell_type": "code",
      "execution_count": 171,
      "metadata": {
        "id": "kEbySVAC3Az0",
        "colab": {
          "base_uri": "https://localhost:8080/"
        },
        "outputId": "38932910-98cb-4173-88bb-fb31a6ff93e1"
      },
      "outputs": [
        {
          "output_type": "stream",
          "name": "stdout",
          "text": [
            "+-------------------+-----------------------+\n",
            "|               Date|date_format(Date, EEEE)|\n",
            "+-------------------+-----------------------+\n",
            "|2022-07-29 03:39:00|                 Friday|\n",
            "|2023-01-03 16:44:00|                Tuesday|\n",
            "|2020-08-10 09:45:00|                 Monday|\n",
            "|2017-08-26 10:00:00|               Saturday|\n",
            "|2023-09-06 17:00:00|              Wednesday|\n",
            "+-------------------+-----------------------+\n",
            "only showing top 5 rows\n",
            "\n"
          ]
        }
      ],
      "source": [
        "rc.select(col('Date'),date_format(col('Date'),'EEEE')).show(5)"
      ]
    },
    {
      "cell_type": "code",
      "execution_count": 172,
      "metadata": {
        "id": "bSxKI4ePKJ5j",
        "colab": {
          "base_uri": "https://localhost:8080/"
        },
        "outputId": "fbd2a646-1af7-4207-86f4-a50517cd559a"
      },
      "outputs": [
        {
          "output_type": "stream",
          "name": "stdout",
          "text": [
            "+-----------+-----+\n",
            "|day of week|count|\n",
            "+-----------+-----+\n",
            "|     Friday| 8761|\n",
            "|   Saturday| 8607|\n",
            "|  Wednesday| 8549|\n",
            "|     Sunday| 8458|\n",
            "|   Thursday| 8375|\n",
            "|    Tuesday| 8240|\n",
            "|     Monday| 8188|\n",
            "|       null|    1|\n",
            "+-----------+-----+\n",
            "\n"
          ]
        }
      ],
      "source": [
        "rc.groupBy(date_format(col('Date'),'EEEE').alias('day of week')).count().orderBy('count',ascending=False).show()"
      ]
    },
    {
      "cell_type": "code",
      "execution_count": 173,
      "metadata": {
        "id": "j_iQqpL1KJ2d",
        "colab": {
          "base_uri": "https://localhost:8080/"
        },
        "outputId": "0754aca6-a6d4-45dd-c1b2-e10671b81987"
      },
      "outputs": [
        {
          "output_type": "execute_result",
          "data": {
            "text/plain": [
              "[Row(day of week='Wednesday', count=8549),\n",
              " Row(day of week='Tuesday', count=8240),\n",
              " Row(day of week='Friday', count=8761),\n",
              " Row(day of week='Thursday', count=8375),\n",
              " Row(day of week='Saturday', count=8607),\n",
              " Row(day of week='Monday', count=8188),\n",
              " Row(day of week='Sunday', count=8458),\n",
              " Row(day of week=None, count=1)]"
            ]
          },
          "metadata": {},
          "execution_count": 173
        }
      ],
      "source": [
        "rc.groupBy(date_format(col('Date'),'EEEE').alias('day of week')).count().collect()"
      ]
    },
    {
      "cell_type": "code",
      "execution_count": 176,
      "metadata": {
        "id": "GbcSuGRpKJzq",
        "colab": {
          "base_uri": "https://localhost:8080/"
        },
        "outputId": "7aa6ca47-1ea5-4af9-de67-135f8eefe43c"
      },
      "outputs": [
        {
          "output_type": "execute_result",
          "data": {
            "text/plain": [
              "['Wednesday',\n",
              " 'Tuesday',\n",
              " 'Friday',\n",
              " 'Thursday',\n",
              " 'Saturday',\n",
              " 'Monday',\n",
              " 'Sunday',\n",
              " None]"
            ]
          },
          "metadata": {},
          "execution_count": 176
        }
      ],
      "source": [
        "dow=[x[0] for x in rc.groupBy(date_format(col('Date'),'EEEE').alias('day of week')).count().collect()]\n",
        "dow"
      ]
    },
    {
      "cell_type": "code",
      "execution_count": 178,
      "metadata": {
        "id": "h95xRmYbKJxE",
        "colab": {
          "base_uri": "https://localhost:8080/"
        },
        "outputId": "e5f71049-dcda-4202-9a97-33d3bb83eecf"
      },
      "outputs": [
        {
          "output_type": "execute_result",
          "data": {
            "text/plain": [
              "[8549, 8240, 8761, 8375, 8607, 8188, 8458, 1]"
            ]
          },
          "metadata": {},
          "execution_count": 178
        }
      ],
      "source": [
        "count=[x[1] for x in rc.groupBy(date_format(col('Date'),'EEEE').alias('day of week')).count().collect()]\n",
        "count"
      ]
    },
    {
      "cell_type": "code",
      "source": [
        "import pandas as pd\n",
        "import matplotlib.pyplot as plt"
      ],
      "metadata": {
        "id": "xRxHZgpG4d5p"
      },
      "execution_count": 189,
      "outputs": []
    },
    {
      "cell_type": "code",
      "source": [
        "cp= pd.DataFrame({'dow':dow,'count':count})\n",
        "cp"
      ],
      "metadata": {
        "colab": {
          "base_uri": "https://localhost:8080/",
          "height": 300
        },
        "id": "JSk3mFcpgT6-",
        "outputId": "0e72cdde-132c-4a30-a71f-bb20f8815ce7"
      },
      "execution_count": 186,
      "outputs": [
        {
          "output_type": "execute_result",
          "data": {
            "text/plain": [
              "         dow  count\n",
              "0  Wednesday   8549\n",
              "1    Tuesday   8240\n",
              "2     Friday   8761\n",
              "3   Thursday   8375\n",
              "4   Saturday   8607\n",
              "5     Monday   8188\n",
              "6     Sunday   8458\n",
              "7       None      1"
            ],
            "text/html": [
              "\n",
              "  <div id=\"df-4c49ac55-5f14-4114-9c2a-bbc6b1511cb1\" class=\"colab-df-container\">\n",
              "    <div>\n",
              "<style scoped>\n",
              "    .dataframe tbody tr th:only-of-type {\n",
              "        vertical-align: middle;\n",
              "    }\n",
              "\n",
              "    .dataframe tbody tr th {\n",
              "        vertical-align: top;\n",
              "    }\n",
              "\n",
              "    .dataframe thead th {\n",
              "        text-align: right;\n",
              "    }\n",
              "</style>\n",
              "<table border=\"1\" class=\"dataframe\">\n",
              "  <thead>\n",
              "    <tr style=\"text-align: right;\">\n",
              "      <th></th>\n",
              "      <th>dow</th>\n",
              "      <th>count</th>\n",
              "    </tr>\n",
              "  </thead>\n",
              "  <tbody>\n",
              "    <tr>\n",
              "      <th>0</th>\n",
              "      <td>Wednesday</td>\n",
              "      <td>8549</td>\n",
              "    </tr>\n",
              "    <tr>\n",
              "      <th>1</th>\n",
              "      <td>Tuesday</td>\n",
              "      <td>8240</td>\n",
              "    </tr>\n",
              "    <tr>\n",
              "      <th>2</th>\n",
              "      <td>Friday</td>\n",
              "      <td>8761</td>\n",
              "    </tr>\n",
              "    <tr>\n",
              "      <th>3</th>\n",
              "      <td>Thursday</td>\n",
              "      <td>8375</td>\n",
              "    </tr>\n",
              "    <tr>\n",
              "      <th>4</th>\n",
              "      <td>Saturday</td>\n",
              "      <td>8607</td>\n",
              "    </tr>\n",
              "    <tr>\n",
              "      <th>5</th>\n",
              "      <td>Monday</td>\n",
              "      <td>8188</td>\n",
              "    </tr>\n",
              "    <tr>\n",
              "      <th>6</th>\n",
              "      <td>Sunday</td>\n",
              "      <td>8458</td>\n",
              "    </tr>\n",
              "    <tr>\n",
              "      <th>7</th>\n",
              "      <td>None</td>\n",
              "      <td>1</td>\n",
              "    </tr>\n",
              "  </tbody>\n",
              "</table>\n",
              "</div>\n",
              "    <div class=\"colab-df-buttons\">\n",
              "\n",
              "  <div class=\"colab-df-container\">\n",
              "    <button class=\"colab-df-convert\" onclick=\"convertToInteractive('df-4c49ac55-5f14-4114-9c2a-bbc6b1511cb1')\"\n",
              "            title=\"Convert this dataframe to an interactive table.\"\n",
              "            style=\"display:none;\">\n",
              "\n",
              "  <svg xmlns=\"http://www.w3.org/2000/svg\" height=\"24px\" viewBox=\"0 -960 960 960\">\n",
              "    <path d=\"M120-120v-720h720v720H120Zm60-500h600v-160H180v160Zm220 220h160v-160H400v160Zm0 220h160v-160H400v160ZM180-400h160v-160H180v160Zm440 0h160v-160H620v160ZM180-180h160v-160H180v160Zm440 0h160v-160H620v160Z\"/>\n",
              "  </svg>\n",
              "    </button>\n",
              "\n",
              "  <style>\n",
              "    .colab-df-container {\n",
              "      display:flex;\n",
              "      gap: 12px;\n",
              "    }\n",
              "\n",
              "    .colab-df-convert {\n",
              "      background-color: #E8F0FE;\n",
              "      border: none;\n",
              "      border-radius: 50%;\n",
              "      cursor: pointer;\n",
              "      display: none;\n",
              "      fill: #1967D2;\n",
              "      height: 32px;\n",
              "      padding: 0 0 0 0;\n",
              "      width: 32px;\n",
              "    }\n",
              "\n",
              "    .colab-df-convert:hover {\n",
              "      background-color: #E2EBFA;\n",
              "      box-shadow: 0px 1px 2px rgba(60, 64, 67, 0.3), 0px 1px 3px 1px rgba(60, 64, 67, 0.15);\n",
              "      fill: #174EA6;\n",
              "    }\n",
              "\n",
              "    .colab-df-buttons div {\n",
              "      margin-bottom: 4px;\n",
              "    }\n",
              "\n",
              "    [theme=dark] .colab-df-convert {\n",
              "      background-color: #3B4455;\n",
              "      fill: #D2E3FC;\n",
              "    }\n",
              "\n",
              "    [theme=dark] .colab-df-convert:hover {\n",
              "      background-color: #434B5C;\n",
              "      box-shadow: 0px 1px 3px 1px rgba(0, 0, 0, 0.15);\n",
              "      filter: drop-shadow(0px 1px 2px rgba(0, 0, 0, 0.3));\n",
              "      fill: #FFFFFF;\n",
              "    }\n",
              "  </style>\n",
              "\n",
              "    <script>\n",
              "      const buttonEl =\n",
              "        document.querySelector('#df-4c49ac55-5f14-4114-9c2a-bbc6b1511cb1 button.colab-df-convert');\n",
              "      buttonEl.style.display =\n",
              "        google.colab.kernel.accessAllowed ? 'block' : 'none';\n",
              "\n",
              "      async function convertToInteractive(key) {\n",
              "        const element = document.querySelector('#df-4c49ac55-5f14-4114-9c2a-bbc6b1511cb1');\n",
              "        const dataTable =\n",
              "          await google.colab.kernel.invokeFunction('convertToInteractive',\n",
              "                                                    [key], {});\n",
              "        if (!dataTable) return;\n",
              "\n",
              "        const docLinkHtml = 'Like what you see? Visit the ' +\n",
              "          '<a target=\"_blank\" href=https://colab.research.google.com/notebooks/data_table.ipynb>data table notebook</a>'\n",
              "          + ' to learn more about interactive tables.';\n",
              "        element.innerHTML = '';\n",
              "        dataTable['output_type'] = 'display_data';\n",
              "        await google.colab.output.renderOutput(dataTable, element);\n",
              "        const docLink = document.createElement('div');\n",
              "        docLink.innerHTML = docLinkHtml;\n",
              "        element.appendChild(docLink);\n",
              "      }\n",
              "    </script>\n",
              "  </div>\n",
              "\n",
              "\n",
              "    <div id=\"df-da3418c1-5d35-43a3-a95d-00b8cc23b8be\">\n",
              "      <button class=\"colab-df-quickchart\" onclick=\"quickchart('df-da3418c1-5d35-43a3-a95d-00b8cc23b8be')\"\n",
              "                title=\"Suggest charts\"\n",
              "                style=\"display:none;\">\n",
              "\n",
              "<svg xmlns=\"http://www.w3.org/2000/svg\" height=\"24px\"viewBox=\"0 0 24 24\"\n",
              "     width=\"24px\">\n",
              "    <g>\n",
              "        <path d=\"M19 3H5c-1.1 0-2 .9-2 2v14c0 1.1.9 2 2 2h14c1.1 0 2-.9 2-2V5c0-1.1-.9-2-2-2zM9 17H7v-7h2v7zm4 0h-2V7h2v10zm4 0h-2v-4h2v4z\"/>\n",
              "    </g>\n",
              "</svg>\n",
              "      </button>\n",
              "\n",
              "<style>\n",
              "  .colab-df-quickchart {\n",
              "      --bg-color: #E8F0FE;\n",
              "      --fill-color: #1967D2;\n",
              "      --hover-bg-color: #E2EBFA;\n",
              "      --hover-fill-color: #174EA6;\n",
              "      --disabled-fill-color: #AAA;\n",
              "      --disabled-bg-color: #DDD;\n",
              "  }\n",
              "\n",
              "  [theme=dark] .colab-df-quickchart {\n",
              "      --bg-color: #3B4455;\n",
              "      --fill-color: #D2E3FC;\n",
              "      --hover-bg-color: #434B5C;\n",
              "      --hover-fill-color: #FFFFFF;\n",
              "      --disabled-bg-color: #3B4455;\n",
              "      --disabled-fill-color: #666;\n",
              "  }\n",
              "\n",
              "  .colab-df-quickchart {\n",
              "    background-color: var(--bg-color);\n",
              "    border: none;\n",
              "    border-radius: 50%;\n",
              "    cursor: pointer;\n",
              "    display: none;\n",
              "    fill: var(--fill-color);\n",
              "    height: 32px;\n",
              "    padding: 0;\n",
              "    width: 32px;\n",
              "  }\n",
              "\n",
              "  .colab-df-quickchart:hover {\n",
              "    background-color: var(--hover-bg-color);\n",
              "    box-shadow: 0 1px 2px rgba(60, 64, 67, 0.3), 0 1px 3px 1px rgba(60, 64, 67, 0.15);\n",
              "    fill: var(--button-hover-fill-color);\n",
              "  }\n",
              "\n",
              "  .colab-df-quickchart-complete:disabled,\n",
              "  .colab-df-quickchart-complete:disabled:hover {\n",
              "    background-color: var(--disabled-bg-color);\n",
              "    fill: var(--disabled-fill-color);\n",
              "    box-shadow: none;\n",
              "  }\n",
              "\n",
              "  .colab-df-spinner {\n",
              "    border: 2px solid var(--fill-color);\n",
              "    border-color: transparent;\n",
              "    border-bottom-color: var(--fill-color);\n",
              "    animation:\n",
              "      spin 1s steps(1) infinite;\n",
              "  }\n",
              "\n",
              "  @keyframes spin {\n",
              "    0% {\n",
              "      border-color: transparent;\n",
              "      border-bottom-color: var(--fill-color);\n",
              "      border-left-color: var(--fill-color);\n",
              "    }\n",
              "    20% {\n",
              "      border-color: transparent;\n",
              "      border-left-color: var(--fill-color);\n",
              "      border-top-color: var(--fill-color);\n",
              "    }\n",
              "    30% {\n",
              "      border-color: transparent;\n",
              "      border-left-color: var(--fill-color);\n",
              "      border-top-color: var(--fill-color);\n",
              "      border-right-color: var(--fill-color);\n",
              "    }\n",
              "    40% {\n",
              "      border-color: transparent;\n",
              "      border-right-color: var(--fill-color);\n",
              "      border-top-color: var(--fill-color);\n",
              "    }\n",
              "    60% {\n",
              "      border-color: transparent;\n",
              "      border-right-color: var(--fill-color);\n",
              "    }\n",
              "    80% {\n",
              "      border-color: transparent;\n",
              "      border-right-color: var(--fill-color);\n",
              "      border-bottom-color: var(--fill-color);\n",
              "    }\n",
              "    90% {\n",
              "      border-color: transparent;\n",
              "      border-bottom-color: var(--fill-color);\n",
              "    }\n",
              "  }\n",
              "</style>\n",
              "\n",
              "      <script>\n",
              "        async function quickchart(key) {\n",
              "          const quickchartButtonEl =\n",
              "            document.querySelector('#' + key + ' button');\n",
              "          quickchartButtonEl.disabled = true;  // To prevent multiple clicks.\n",
              "          quickchartButtonEl.classList.add('colab-df-spinner');\n",
              "          try {\n",
              "            const charts = await google.colab.kernel.invokeFunction(\n",
              "                'suggestCharts', [key], {});\n",
              "          } catch (error) {\n",
              "            console.error('Error during call to suggestCharts:', error);\n",
              "          }\n",
              "          quickchartButtonEl.classList.remove('colab-df-spinner');\n",
              "          quickchartButtonEl.classList.add('colab-df-quickchart-complete');\n",
              "        }\n",
              "        (() => {\n",
              "          let quickchartButtonEl =\n",
              "            document.querySelector('#df-da3418c1-5d35-43a3-a95d-00b8cc23b8be button');\n",
              "          quickchartButtonEl.style.display =\n",
              "            google.colab.kernel.accessAllowed ? 'block' : 'none';\n",
              "        })();\n",
              "      </script>\n",
              "    </div>\n",
              "\n",
              "  <div id=\"id_1e4d841c-7baa-4992-ba5c-d43df7955e64\">\n",
              "    <style>\n",
              "      .colab-df-generate {\n",
              "        background-color: #E8F0FE;\n",
              "        border: none;\n",
              "        border-radius: 50%;\n",
              "        cursor: pointer;\n",
              "        display: none;\n",
              "        fill: #1967D2;\n",
              "        height: 32px;\n",
              "        padding: 0 0 0 0;\n",
              "        width: 32px;\n",
              "      }\n",
              "\n",
              "      .colab-df-generate:hover {\n",
              "        background-color: #E2EBFA;\n",
              "        box-shadow: 0px 1px 2px rgba(60, 64, 67, 0.3), 0px 1px 3px 1px rgba(60, 64, 67, 0.15);\n",
              "        fill: #174EA6;\n",
              "      }\n",
              "\n",
              "      [theme=dark] .colab-df-generate {\n",
              "        background-color: #3B4455;\n",
              "        fill: #D2E3FC;\n",
              "      }\n",
              "\n",
              "      [theme=dark] .colab-df-generate:hover {\n",
              "        background-color: #434B5C;\n",
              "        box-shadow: 0px 1px 3px 1px rgba(0, 0, 0, 0.15);\n",
              "        filter: drop-shadow(0px 1px 2px rgba(0, 0, 0, 0.3));\n",
              "        fill: #FFFFFF;\n",
              "      }\n",
              "    </style>\n",
              "    <button class=\"colab-df-generate\" onclick=\"generateWithVariable('cp')\"\n",
              "            title=\"Generate code using this dataframe.\"\n",
              "            style=\"display:none;\">\n",
              "\n",
              "  <svg xmlns=\"http://www.w3.org/2000/svg\" height=\"24px\"viewBox=\"0 0 24 24\"\n",
              "       width=\"24px\">\n",
              "    <path d=\"M7,19H8.4L18.45,9,17,7.55,7,17.6ZM5,21V16.75L18.45,3.32a2,2,0,0,1,2.83,0l1.4,1.43a1.91,1.91,0,0,1,.58,1.4,1.91,1.91,0,0,1-.58,1.4L9.25,21ZM18.45,9,17,7.55Zm-12,3A5.31,5.31,0,0,0,4.9,8.1,5.31,5.31,0,0,0,1,6.5,5.31,5.31,0,0,0,4.9,4.9,5.31,5.31,0,0,0,6.5,1,5.31,5.31,0,0,0,8.1,4.9,5.31,5.31,0,0,0,12,6.5,5.46,5.46,0,0,0,6.5,12Z\"/>\n",
              "  </svg>\n",
              "    </button>\n",
              "    <script>\n",
              "      (() => {\n",
              "      const buttonEl =\n",
              "        document.querySelector('#id_1e4d841c-7baa-4992-ba5c-d43df7955e64 button.colab-df-generate');\n",
              "      buttonEl.style.display =\n",
              "        google.colab.kernel.accessAllowed ? 'block' : 'none';\n",
              "\n",
              "      buttonEl.onclick = () => {\n",
              "        google.colab.notebook.generateWithVariable('cp');\n",
              "      }\n",
              "      })();\n",
              "    </script>\n",
              "  </div>\n",
              "\n",
              "    </div>\n",
              "  </div>\n"
            ],
            "application/vnd.google.colaboratory.intrinsic+json": {
              "type": "dataframe",
              "variable_name": "cp",
              "summary": "{\n  \"name\": \"cp\",\n  \"rows\": 8,\n  \"fields\": [\n    {\n      \"column\": \"dow\",\n      \"properties\": {\n        \"dtype\": \"string\",\n        \"num_unique_values\": 7,\n        \"samples\": [\n          \"Wednesday\",\n          \"Tuesday\",\n          \"Monday\"\n        ],\n        \"semantic_type\": \"\",\n        \"description\": \"\"\n      }\n    },\n    {\n      \"column\": \"count\",\n      \"properties\": {\n        \"dtype\": \"number\",\n        \"std\": 2994,\n        \"min\": 1,\n        \"max\": 8761,\n        \"num_unique_values\": 8,\n        \"samples\": [\n          8240,\n          8188,\n          8549\n        ],\n        \"semantic_type\": \"\",\n        \"description\": \"\"\n      }\n    }\n  ]\n}"
            }
          },
          "metadata": {},
          "execution_count": 186
        }
      ]
    },
    {
      "cell_type": "code",
      "source": [
        "cp.sort_values('count',ascending=False).plot(kind='bar',color='olive',x='dow',y='count')\n",
        "plt.xlabel('Day of Week')\n",
        "plt.ylabel('Count')\n",
        "plt.title('Number of Reported Crimes by Day of Week')\n",
        "plt.show()\n"
      ],
      "metadata": {
        "colab": {
          "base_uri": "https://localhost:8080/",
          "height": 538
        },
        "id": "0rG14H4ugT4Z",
        "outputId": "c44b9e5f-e24c-42c6-c714-682ab3902969"
      },
      "execution_count": 191,
      "outputs": [
        {
          "output_type": "display_data",
          "data": {
            "text/plain": [
              "<Figure size 640x480 with 1 Axes>"
            ],
            "image/png": "[encoded data removed]"
          },
          "metadata": {}
        }
      ]
    },
    {
      "cell_type": "code",
      "source": [],
      "metadata": {
        "id": "5UEYUgSUgTyJ"
      },
      "execution_count": null,
      "outputs": []
    },
    {
      "cell_type": "markdown",
      "metadata": {
        "id": "oSOpIOhJ4etN"
      },
      "source": [
        "## (05-01) RDDs setup"
      ]
    },
    {
      "cell_type": "code",
      "execution_count": 194,
      "metadata": {
        "id": "xcOe8kAS4etN"
      },
      "outputs": [],
      "source": [
        "from pyspark import SparkContext\n",
        "sc=SparkContext.getOrCreate()"
      ]
    },
    {
      "cell_type": "code",
      "execution_count": 235,
      "metadata": {
        "id": "uxMRo2C14etN"
      },
      "outputs": [],
      "source": [
        "psrdd=sc.textFile('police-station.csv')"
      ]
    },
    {
      "cell_type": "code",
      "execution_count": 236,
      "metadata": {
        "id": "eYDxom404etN",
        "colab": {
          "base_uri": "https://localhost:8080/",
          "height": 53
        },
        "outputId": "9311e119-8682-485c-c1e7-b9624edf26bb"
      },
      "outputs": [
        {
          "output_type": "execute_result",
          "data": {
            "text/plain": [
              "'\"DISTRICT\",\"DISTRICT NAME\",\"ADDRESS\",\"CITY\",\"STATE\",\"ZIP\",\"WEBSITE\",\"PHONE\",\"FAX\",\"TTY\",\"X COORDINATE\",\"Y COORDINATE\",\"LATITUDE\",\"LONGITUDE\",\"LOCATION\"'"
            ],
            "application/vnd.google.colaboratory.intrinsic+json": {
              "type": "string"
            }
          },
          "metadata": {},
          "execution_count": 236
        }
      ],
      "source": [
        "psrdd.first()"
      ]
    },
    {
      "cell_type": "markdown",
      "source": [],
      "metadata": {
        "id": "i5qCB65BlSiX"
      }
    },
    {
      "cell_type": "code",
      "source": [
        "ps_header=psrdd.first()\n",
        "ps_rest=psrdd.filter(lambda line:line!=ps_header)"
      ],
      "metadata": {
        "id": "7QYwIwO5k2Sn"
      },
      "execution_count": 237,
      "outputs": []
    },
    {
      "cell_type": "code",
      "execution_count": 238,
      "metadata": {
        "id": "FWNY2gxZ4etO",
        "colab": {
          "base_uri": "https://localhost:8080/",
          "height": 53
        },
        "outputId": "27694bb7-a36c-4d40-d430-4503fda27cf0"
      },
      "outputs": [
        {
          "output_type": "execute_result",
          "data": {
            "text/plain": [
              "'\"Headquarters\",\"Headquarters\",\"3510 S Michigan Ave\",\"Chicago\",\"IL\",\"60653\",\"http://home.chicagopolice.org\",,,,\"1177731.401\",\"1881697.404\",\"41.83070169\",\"-87.62339535\",\"(41.8307016873, -87.6233953459)\"'"
            ],
            "application/vnd.google.colaboratory.intrinsic+json": {
              "type": "string"
            }
          },
          "metadata": {},
          "execution_count": 238
        }
      ],
      "source": [
        "ps_rest.first()"
      ]
    },
    {
      "cell_type": "code",
      "execution_count": 239,
      "metadata": {
        "id": "nyAtd_Rl4etO",
        "colab": {
          "base_uri": "https://localhost:8080/"
        },
        "collapsed": true,
        "outputId": "bce47cf0-c93f-4af2-a2b6-16a920aebf9b"
      },
      "outputs": [
        {
          "output_type": "execute_result",
          "data": {
            "text/plain": [
              "[['\"Headquarters\"',\n",
              "  '\"Headquarters\"',\n",
              "  '\"3510 S Michigan Ave\"',\n",
              "  '\"Chicago\"',\n",
              "  '\"IL\"',\n",
              "  '\"60653\"',\n",
              "  '\"http://home.chicagopolice.org\"',\n",
              "  '',\n",
              "  '',\n",
              "  '',\n",
              "  '\"1177731.401\"',\n",
              "  '\"1881697.404\"',\n",
              "  '\"41.83070169\"',\n",
              "  '\"-87.62339535\"',\n",
              "  '\"(41.8307016873',\n",
              "  ' -87.6233953459)\"'],\n",
              " ['\"18\"',\n",
              "  '\"Near North\"',\n",
              "  '\"1160 N Larrabee St\"',\n",
              "  '\"Chicago\"',\n",
              "  '\"IL\"',\n",
              "  '\"60610\"',\n",
              "  '\"http://home.chicagopolice.org/community/districts/18th-district-near-north/\"',\n",
              "  '\"312-742-5870\"',\n",
              "  '\"312-742-5771\"',\n",
              "  '\"312-742-5773\"',\n",
              "  '\"1172080.029\"',\n",
              "  '\"1908086.527\"',\n",
              "  '\"41.90324165\"',\n",
              "  '\"-87.64335214\"',\n",
              "  '\"(41.9032416531',\n",
              "  ' -87.6433521393)\"'],\n",
              " ['\"19\"',\n",
              "  '\"Town Hall\"',\n",
              "  '\"850 W Addison St\"',\n",
              "  '\"Chicago\"',\n",
              "  '\"IL\"',\n",
              "  '\"60613\"',\n",
              "  '\"http://home.chicagopolice.org/community/districts/19th-district-town-hall/\"',\n",
              "  '\"312-744-8320\"',\n",
              "  '\"312-744-4481\"',\n",
              "  '\"312-744-8011\"',\n",
              "  '\"1169730.744\"',\n",
              "  '\"1924160.317\"',\n",
              "  '\"41.94740046\"',\n",
              "  '\"-87.65151202\"',\n",
              "  '\"(41.9474004564',\n",
              "  ' -87.651512018)\"'],\n",
              " ['\"20\"',\n",
              "  '\"Lincoln\"',\n",
              "  '\"5400 N Lincoln Ave\"',\n",
              "  '\"Chicago\"',\n",
              "  '\"IL\"',\n",
              "  '\"60625\"',\n",
              "  '\"http://home.chicagopolice.org/community/districts/20th-district-lincoln/\"',\n",
              "  '\"312-742-8714\"',\n",
              "  '\"312-742-8803\"',\n",
              "  '\"312-742-8841\"',\n",
              "  '\"1158399.146\"',\n",
              "  '\"1935788.826\"',\n",
              "  '\"41.97954951\"',\n",
              "  '\"-87.69284451\"',\n",
              "  '\"(41.9795495131',\n",
              "  ' -87.6928445094)\"'],\n",
              " ['\"22\"',\n",
              "  '\"Morgan Park\"',\n",
              "  '\"1900 W Monterey Ave\"',\n",
              "  '\"Chicago\"',\n",
              "  '\"IL\"',\n",
              "  '\"60643\"',\n",
              "  '\"http://home.chicagopolice.org/community/districts/22nd-district-morgan-park/\"',\n",
              "  '\"312-745-0710\"',\n",
              "  '\"312-745-0814\"',\n",
              "  '\"312-745-0569\"',\n",
              "  '\"1165825.476\"',\n",
              "  '\"1830851.333\"',\n",
              "  '\"41.69143478\"',\n",
              "  '\"-87.66852039\"',\n",
              "  '\"(41.6914347795',\n",
              "  ' -87.6685203937)\"'],\n",
              " ['\"24\"',\n",
              "  '\"Rogers Park\"',\n",
              "  '\"6464 N Clark St\"',\n",
              "  '\"Chicago\"',\n",
              "  '\"IL\"',\n",
              "  '\"60626\"',\n",
              "  '\"http://home.chicagopolice.org/community/districts/24th-district-rogers-park/\"',\n",
              "  '\"312-744-5907\"',\n",
              "  '\"312-744-6928\"',\n",
              "  '\"312-744-7603\"',\n",
              "  '\"1164193.588\"',\n",
              "  '\"1943199.401\"',\n",
              "  '\"41.99976348\"',\n",
              "  '\"-87.67132429\"',\n",
              "  '\"(41.9997634842',\n",
              "  ' -87.6713242922)\"'],\n",
              " ['\"25\"',\n",
              "  '\"Grand Central\"',\n",
              "  '\"5555 W Grand Ave\"',\n",
              "  '\"Chicago\"',\n",
              "  '\"IL\"',\n",
              "  '\"60639\"',\n",
              "  '\"http://home.chicagopolice.org/community/districts/25th-district-grand-central/\"',\n",
              "  '\"312-746-8605\"',\n",
              "  '\"312-746-4353\"',\n",
              "  '\"312-746-8383\"',\n",
              "  '\"1138770.871\"',\n",
              "  '\"1913442.439\"',\n",
              "  '\"41.91860889\"',\n",
              "  '\"-87.76557448\"',\n",
              "  '\"(41.9186088912',\n",
              "  ' -87.765574479)\"'],\n",
              " ['\"1\"',\n",
              "  '\"Central\"',\n",
              "  '\"1718 S State St\"',\n",
              "  '\"Chicago\"',\n",
              "  '\"IL\"',\n",
              "  '\"60616\"',\n",
              "  '\"http://home.chicagopolice.org/community/districts/1st-district-central/\"',\n",
              "  '\"312-745-4290\"',\n",
              "  '\"312-745-3694\"',\n",
              "  '\"312-745-3693\"',\n",
              "  '\"1176569.052\"',\n",
              "  '\"1891771.704\"',\n",
              "  '\"41.85837259\"',\n",
              "  '\"-87.62735617\"',\n",
              "  '\"(41.8583725929',\n",
              "  ' -87.627356171)\"'],\n",
              " ['\"2\"',\n",
              "  '\"Wentworth\"',\n",
              "  '\"5101 S Wentworth Ave\"',\n",
              "  '\"Chicago\"',\n",
              "  '\"IL\"',\n",
              "  '\"60609\"',\n",
              "  '\"http://home.chicagopolice.org/community/districts/2nd-district-wentworth/\"',\n",
              "  '\"312-747-8366\"',\n",
              "  '\"312-747-5396\"',\n",
              "  '\"312-747-6656\"',\n",
              "  '\"1175864.837\"',\n",
              "  '\"1871153.753\"',\n",
              "  '\"41.80181109\"',\n",
              "  '\"-87.63056018\"',\n",
              "  '\"(41.8018110912',\n",
              "  ' -87.6305601801)\"'],\n",
              " ['\"3\"',\n",
              "  '\"Grand Crossing\"',\n",
              "  '\"7040 S Cottage Grove Ave\"',\n",
              "  '\"Chicago\"',\n",
              "  '\"IL\"',\n",
              "  '\"60637\"',\n",
              "  '\"http://home.chicagopolice.org/community/districts/3rd-district-grand-crossing/\"',\n",
              "  '\"312-747-8201\"',\n",
              "  '\"312-747-5479\"',\n",
              "  '\"312-747-9168\"',\n",
              "  '\"1182739.183\"',\n",
              "  '\"1858317.732\"',\n",
              "  '\"41.76643089\"',\n",
              "  '\"-87.60574786\"',\n",
              "  '\"(41.7664308925',\n",
              "  ' -87.6057478606)\"'],\n",
              " ['\"4\"',\n",
              "  '\"South Chicago\"',\n",
              "  '\"2255 E 103rd St\"',\n",
              "  '\"Chicago\"',\n",
              "  '\"IL\"',\n",
              "  '\"60617\"',\n",
              "  '\"http://home.chicagopolice.org/community/districts/4th-district-south-chicago/\"',\n",
              "  '\"312-747-7581\"',\n",
              "  '\"312-747-5276\"',\n",
              "  '\"312-747-9169\"',\n",
              "  '\"1193131.299\"',\n",
              "  '\"1837090.265\"',\n",
              "  '\"41.70793329\"',\n",
              "  '\"-87.56834912\"',\n",
              "  '\"(41.7079332906',\n",
              "  ' -87.5683491228)\"'],\n",
              " ['\"5\"',\n",
              "  '\"Calumet\"',\n",
              "  '\"727 E 111th St\"',\n",
              "  '\"Chicago\"',\n",
              "  '\"IL\"',\n",
              "  '\"60628\"',\n",
              "  '\"http://home.chicagopolice.org/community/districts/5th-district-calumet/\"',\n",
              "  '\"312-747-8210\"',\n",
              "  '\"312-747-5935\"',\n",
              "  '\"312-747-9170\"',\n",
              "  '\"1183305.427\"',\n",
              "  '\"1831462.313\"',\n",
              "  '\"41.69272336\"',\n",
              "  '\"-87.60450587\"',\n",
              "  '\"(41.6927233639',\n",
              "  ' -87.6045058667)\"'],\n",
              " ['\"6\"',\n",
              "  '\"Gresham\"',\n",
              "  '\"7808 S Halsted St\"',\n",
              "  '\"Chicago\"',\n",
              "  '\"IL\"',\n",
              "  '\"60620\"',\n",
              "  '\"http://home.chicagopolice.org/community/districts/6th-district-gresham/\"',\n",
              "  '\"312-745-3617\"',\n",
              "  '\"312-745-3649\"',\n",
              "  '\"312-745-3639\"',\n",
              "  '\"1172283.013\"',\n",
              "  '\"1853022.646\"',\n",
              "  '\"41.75213684\"',\n",
              "  '\"-87.64422891\"',\n",
              "  '\"(41.7521368378',\n",
              "  ' -87.6442289066)\"'],\n",
              " ['\"7\"',\n",
              "  '\"Englewood\"',\n",
              "  '\"1438 W 63rd St\"',\n",
              "  '\"Chicago\"',\n",
              "  '\"IL\"',\n",
              "  '\"60636\"',\n",
              "  '\"http://home.chicagopolice.org/community/districts/7th-district-englewood/\"',\n",
              "  '\"312-747-8223\"',\n",
              "  '\"312-747-6558\"',\n",
              "  '\"312-747-6652\"',\n",
              "  '\"1167659.235\"',\n",
              "  '\"1863005.522\"',\n",
              "  '\"41.77963154\"',\n",
              "  '\"-87.66088702\"',\n",
              "  '\"(41.7796315359',\n",
              "  ' -87.6608870173)\"'],\n",
              " ['\"8\"',\n",
              "  '\"Chicago Lawn\"',\n",
              "  '\"3420 W 63rd St\"',\n",
              "  '\"Chicago\"',\n",
              "  '\"IL\"',\n",
              "  '\"60629\"',\n",
              "  '\"http://home.chicagopolice.org/community/districts/8th-district-chicago-lawn/\"',\n",
              "  '\"312-747-8730\"',\n",
              "  '\"312-747-8545\"',\n",
              "  '\"312-747-8116\"',\n",
              "  '\"1154575.242\"',\n",
              "  '\"1862672.049\"',\n",
              "  '\"41.77898719\"',\n",
              "  '\"-87.70886382\"',\n",
              "  '\"(41.778987189',\n",
              "  ' -87.7088638153)\"'],\n",
              " ['\"9\"',\n",
              "  '\"Deering\"',\n",
              "  '\"3120 S Halsted St\"',\n",
              "  '\"Chicago\"',\n",
              "  '\"IL\"',\n",
              "  '\"60608\"',\n",
              "  '\"http://home.chicagopolice.org/community/districts/9th-district-deering/\"',\n",
              "  '\"312-747-8227\"',\n",
              "  '\"312-747-5329\"',\n",
              "  '\"312-747-9172\"',\n",
              "  '\"1171440.24\"',\n",
              "  '\"1884085.224\"',\n",
              "  '\"41.83739443\"',\n",
              "  '\"-87.64640771\"',\n",
              "  '\"(41.8373944311',\n",
              "  ' -87.6464077068)\"'],\n",
              " ['\"10\"',\n",
              "  '\"Ogden\"',\n",
              "  '\"3315 W Ogden Ave\"',\n",
              "  '\"Chicago\"',\n",
              "  '\"IL\"',\n",
              "  '\"60623\"',\n",
              "  '\"http://home.chicagopolice.org/community/districts/10th-district-ogden/\"',\n",
              "  '\"312-747-7511\"',\n",
              "  '\"312-747-7429\"',\n",
              "  '\"312-747-7471\"',\n",
              "  '\"1154500.753\"',\n",
              "  '\"1890985.501\"',\n",
              "  '\"41.85668453\"',\n",
              "  '\"-87.70838196\"',\n",
              "  '\"(41.8566845327',\n",
              "  ' -87.708381958)\"'],\n",
              " ['\"11\"',\n",
              "  '\"Harrison\"',\n",
              "  '\"3151 W Harrison St\"',\n",
              "  '\"Chicago\"',\n",
              "  '\"IL\"',\n",
              "  '\"60612\"',\n",
              "  '\"http://home.chicagopolice.org/community/districts/11th-district-harrison/\"',\n",
              "  '\"312-746-8386\"',\n",
              "  '\"312-746-4281\"',\n",
              "  '\"312-746-5151\"',\n",
              "  '\"1155244.069\"',\n",
              "  '\"1897148.755\"',\n",
              "  '\"41.87358229\"',\n",
              "  '\"-87.70548813\"',\n",
              "  '\"(41.8735822883',\n",
              "  ' -87.705488126)\"'],\n",
              " ['\"12\"', '\"Near West\"', '\"1412 S Blue Island Ave'],\n",
              " ['\"',\n",
              "  '\"Chicago\"',\n",
              "  '\"IL\"',\n",
              "  '\"60608\"',\n",
              "  '\"http://home.chicagopolice.org/community/districts/12th-district-near-west/\"',\n",
              "  '\"312-746-8396\"',\n",
              "  '\"312-746-4248\"',\n",
              "  '\"312-746-9868\"',\n",
              "  '\"1168487.845\"',\n",
              "  '\"1893384.455\"',\n",
              "  '\"41.86297662\"',\n",
              "  '\"-87.65697251\"',\n",
              "  '\"(41.8629766244',\n",
              "  ' -87.6569725149)\"'],\n",
              " ['\"14\"',\n",
              "  '\"Shakespeare\"',\n",
              "  '\"2150 N California Ave\"',\n",
              "  '\"Chicago\"',\n",
              "  '\"IL\"',\n",
              "  '\"60647\"',\n",
              "  '\"http://home.chicagopolice.org/community/districts/14th-district-shakespeare/\"',\n",
              "  '\"312-744-8250\"',\n",
              "  '\"312-744-2422\"',\n",
              "  '\"312-744-8260\"',\n",
              "  '\"1157304.426\"',\n",
              "  '\"1914481.521\"',\n",
              "  '\"41.92110332\"',\n",
              "  '\"-87.69745182\"',\n",
              "  '\"(41.9211033246',\n",
              "  ' -87.6974518223)\"'],\n",
              " ['\"15\"',\n",
              "  '\"Austin\"',\n",
              "  '\"5701 W Madison St\"',\n",
              "  '\"Chicago\"',\n",
              "  '\"IL\"',\n",
              "  '\"60644\"',\n",
              "  '\"http://home.chicagopolice.org/community/districts/15th-district-austin/\"',\n",
              "  '\"312-743-1440\"',\n",
              "  '\"312-743-1366\"',\n",
              "  '\"312-743-1485\"',\n",
              "  '\"1138148.815\"',\n",
              "  '\"1899399.078\"',\n",
              "  '\"41.88008346\"',\n",
              "  '\"-87.76819989\"',\n",
              "  '\"(41.8800834614',\n",
              "  ' -87.768199889)\"'],\n",
              " ['\"16\"',\n",
              "  '\"Jefferson Park\"',\n",
              "  '\"5151 N Milwaukee Ave\"',\n",
              "  '\"Chicago\"',\n",
              "  '\"IL\"',\n",
              "  '\"60630\"',\n",
              "  '\"http://home.chicagopolice.org/community/districts/16th-district-jefferson-park/\"',\n",
              "  '\"312-742-4480\"',\n",
              "  '\"312-742-4421\"',\n",
              "  '\"312-742-4423\"',\n",
              "  '\"1138480.758\"',\n",
              "  '\"1933660.473\"',\n",
              "  '\"41.97409445\"',\n",
              "  '\"-87.76614884\"',\n",
              "  '\"(41.9740944511',\n",
              "  ' -87.7661488432)\"'],\n",
              " ['\"17\"',\n",
              "  '\"Albany Park\"',\n",
              "  '\"4650 N Pulaski Rd\"',\n",
              "  '\"Chicago\"',\n",
              "  '\"IL\"',\n",
              "  '\"60630\"',\n",
              "  '\"http://home.chicagopolice.org/community/districts/17th-district-albany-park/\"',\n",
              "  '\"312-742-4410\"',\n",
              "  '\"312-742-5411\"',\n",
              "  '\"312-742-5451\"',\n",
              "  '\"1148843.91\"',\n",
              "  '\"1930801.058\"',\n",
              "  '\"41.96605342\"',\n",
              "  '\"-87.72811456\"',\n",
              "  '\"(41.9660534171',\n",
              "  ' -87.728114561)\"']]"
            ]
          },
          "metadata": {},
          "execution_count": 239
        }
      ],
      "source": [
        "ps_rest.map(lambda x:x.split(',')).collect()"
      ]
    },
    {
      "cell_type": "code",
      "execution_count": null,
      "metadata": {
        "id": "eG-5DmgE4etO"
      },
      "outputs": [],
      "source": []
    },
    {
      "cell_type": "code",
      "execution_count": null,
      "metadata": {
        "id": "LpAhPr-0RW0E"
      },
      "outputs": [],
      "source": []
    },
    {
      "cell_type": "markdown",
      "metadata": {
        "id": "ShYgMK6jPsSt"
      },
      "source": [
        "**How many police stations are there?**"
      ]
    },
    {
      "cell_type": "code",
      "execution_count": 240,
      "metadata": {
        "id": "2FbZPk84Pwxc",
        "colab": {
          "base_uri": "https://localhost:8080/"
        },
        "outputId": "73a35cbe-6f3a-423c-9a9e-b26c39405de3"
      },
      "outputs": [
        {
          "output_type": "execute_result",
          "data": {
            "text/plain": [
              "24"
            ]
          },
          "metadata": {},
          "execution_count": 240
        }
      ],
      "source": [
        "ps_rest.map(lambda x:x.split(',')).count()"
      ]
    },
    {
      "cell_type": "code",
      "execution_count": null,
      "metadata": {
        "id": "Iv-dVhhhPwrO"
      },
      "outputs": [],
      "source": []
    },
    {
      "cell_type": "code",
      "execution_count": null,
      "metadata": {
        "id": "cQ1u4_cpGZqs"
      },
      "outputs": [],
      "source": []
    },
    {
      "cell_type": "code",
      "execution_count": null,
      "metadata": {
        "id": "8M0_0ZW1GZCO"
      },
      "outputs": [],
      "source": []
    },
    {
      "cell_type": "markdown",
      "metadata": {
        "id": "WKYiypY0MbJ1"
      },
      "source": [
        "**Display the District ID, District name, Address and Zip for the police station with District ID 7**\n",
        "\n"
      ]
    },
    {
      "cell_type": "code",
      "execution_count": 242,
      "metadata": {
        "id": "iHxLAHHq4etO",
        "colab": {
          "base_uri": "https://localhost:8080/"
        },
        "outputId": "b72773cb-aba1-44de-90ce-0ef4b48cfce0"
      },
      "outputs": [
        {
          "output_type": "execute_result",
          "data": {
            "text/plain": [
              "[('\"7\"', '\"Englewood\"', '\"1438 W 63rd St\"', '\"60636\"')]"
            ]
          },
          "metadata": {},
          "execution_count": 242
        }
      ],
      "source": [
        "(ps_rest.filter(lambda line:line.split(',')[0] == '\"7\"')\n",
        ".map(lambda line:(line.split(',')[0],\n",
        "                  line.split(',')[1],\n",
        "                  line.split(',')[2],\n",
        "                  line.split(',')[5])).collect())"
      ]
    },
    {
      "cell_type": "code",
      "execution_count": null,
      "metadata": {
        "id": "Z6dW5knty7pT"
      },
      "outputs": [],
      "source": []
    },
    {
      "cell_type": "code",
      "execution_count": null,
      "metadata": {
        "id": "6rMBWoqm4etO"
      },
      "outputs": [],
      "source": []
    },
    {
      "cell_type": "code",
      "execution_count": null,
      "metadata": {
        "id": "wHgN7nVW4etP"
      },
      "outputs": [],
      "source": []
    },
    {
      "cell_type": "markdown",
      "metadata": {
        "id": "1mWxQg2mN4W7"
      },
      "source": [
        "**Police stations 10 and 11 are geographically close to each other. Display the District ID, District name, address and zip code**"
      ]
    },
    {
      "cell_type": "code",
      "execution_count": 249,
      "metadata": {
        "id": "9DiIzEr-Gadn",
        "colab": {
          "base_uri": "https://localhost:8080/"
        },
        "outputId": "e8fa839d-fab9-477b-a963-24ead3aacd83"
      },
      "outputs": [
        {
          "output_type": "execute_result",
          "data": {
            "text/plain": [
              "[('Ogden', 'Ogden'), ('Harrison', 'Harrison')]"
            ]
          },
          "metadata": {},
          "execution_count": 249
        }
      ],
      "source": [
        "(\n",
        "    ps_rest\n",
        "    .map(lambda line: [field.strip('\"') for field in line.split(',')])\n",
        "    .filter(lambda fields: fields[0] in ['10', '11'])\n",
        "    .map(lambda fields: (fields[1], fields[1]))\n",
        "    .collect()\n",
        ")"
      ]
    },
    {
      "cell_type": "code",
      "execution_count": null,
      "metadata": {
        "id": "CcdG-eOk4etP"
      },
      "outputs": [],
      "source": []
    },
    {
      "cell_type": "code",
      "execution_count": null,
      "metadata": {
        "id": "KnghPtPt4etP"
      },
      "outputs": [],
      "source": []
    },
    {
      "cell_type": "code",
      "execution_count": null,
      "metadata": {
        "id": "Bvd3ldUs4etP"
      },
      "outputs": [],
      "source": []
    }
  ]
}